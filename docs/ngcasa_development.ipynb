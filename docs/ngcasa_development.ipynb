{
  "nbformat": 4,
  "nbformat_minor": 0,
  "metadata": {
    "colab": {
      "name": "ngcasa_development.ipynb",
      "provenance": [],
      "collapsed_sections": [],
      "toc_visible": true,
      "include_colab_link": true
    },
    "kernelspec": {
      "display_name": "Python 3",
      "language": "python",
      "name": "python3"
    },
    "language_info": {
      "codemirror_mode": {
        "name": "ipython",
        "version": 3
      },
      "file_extension": ".py",
      "mimetype": "text/x-python",
      "name": "python",
      "nbconvert_exporter": "python",
      "pygments_lexer": "ipython3",
      "version": "3.7.6"
    }
  },
  "cells": [
    {
      "cell_type": "markdown",
      "metadata": {
        "id": "view-in-github",
        "colab_type": "text"
      },
      "source": [
        "<a href=\"https://colab.research.google.com/github/casangi/ngcasa/blob/master/docs/ngcasa_development.ipynb\" target=\"_parent\"><img src=\"https://colab.research.google.com/assets/colab-badge.svg\" alt=\"Open In Colab\"/></a>"
      ]
    },
    {
      "cell_type": "markdown",
      "metadata": {
        "colab_type": "text",
        "id": "scU9JVUodThH"
      },
      "source": [
        "# Development\n",
        "\n",
        "Radio interferometry data analysis applications and algorithms may be assembled from CNGI and ngCASA building blocks. A user may choose to implement their own analysis scripts, use a pre-packaged task similar to those in current CASA or embed ngCASA and CNGI methods in a production pipeline DAG.\n"
      ]
    },
    {
      "cell_type": "markdown",
      "metadata": {
        "id": "Ys3IrmPfZN99",
        "colab_type": "text"
      },
      "source": [
        "## TBD's\n",
        "\n",
        "(1)  Are img_datasets expected to contain one image at a time, or entire sets used for imaging ? \n",
        "    - Some methods need to see sets of associated images, whereas others need just one image.\n",
        "    - Some methods change the shape of the image, but it is still associated with the same reconstruction run\n",
        "    ==> It seems best to restrict an img_dataset to contain only one image array. \n",
        "    \n",
        "    Example : Cube vs MFS have different image definitions. \n",
        "    For mtmfs, major cycles are cubes, and minor cycles are MTMFS. \n",
        "    So here, should both definitions reside inside the same img_dataset \n",
        "    and the deconvolver know to look for some naming convention ?  \n",
        "    How to do this cleaner ? \n",
        "    \n",
        "(2) How to reconcile the 'stateless function' approach with the need for maintaining iteration control state right through an image reconstruction run ? => The application layer will have to manage return-vals, inp_vals and 'state' ?\n",
        "\n",
        "(3) When to use parameters to a single method, versus having multiple methods ?  The former allows for cleaner application code. The latter allows for more atomic code structure.  => Decide on a case-by-case basis ? \n",
        "\n",
        "(4) Are there rules for what data-array names are allowed in the XDS and Zarr datasets ? Can we implement 'versioning' of arrays simply by picking different names ? E.g. Versions of corrected_data or flags. This is something in the MS V3 that we have needed for a long time.    All the above usage examples assume this is possible. \n",
        "\n",
        "(5) Need more examples in CNGI\n",
        "\n",
        "- Example of how to merge img_datasets that may have different image shapes ?  Join operation for xds\n",
        "  - Needed for linear_mosaic, merge_models_across_image_fields...\n",
        "- Example of how to merge vis_Datasets ? Join operation for xds\n",
        "  - Needed for pipeline use case of doing different operations on different subsets of the data, and then joining the results.  A simple 'regrid' call ? \n",
        "  \n",
        "- MS-Selection replacement examples : How to connect the zarr and xarray metadata to selection data\n",
        "\n",
        "- ComponentList replacement examples : Just a dictionary that we have to define and decide upon ?\n",
        "\n",
        "- Reverse operation for time/chan average or rebin/regrid, or topo-lsrk. \n",
        "  E.g. vis.timeaverage () followed by 'edit flags' and then write back to original dataset ? FLAG value is to be copied during expansion. \n",
        "  E.g. Caltable solutions need an interpolation to get back to the original data resolution. Interpolation+Extrapolation\n",
        "  E.g. vis.chanaverage() followed by 'edit CORRECTED_DATA' (e.g. uvcontfit+uvsub), and then write back to original dataset. This makes no sense. So, how to prevent this ?\n",
        "\n",
        "\n",
        "- Visualization ? \n",
        "  - Point to available python libs for data visualization...\n",
        "  - With array 'versioning' implemented as separate arrays... it's easy to plot/explore versions. On-the-fly application of operations (averaging, coord-shifts, cal-apply, model-predict) is also possible simply by not saving to disk before visualization. \n",
        "  - It can be inserted between any sequence of steps in any user application script.\n",
        "  - Will apply to vis and cal datasets, and img datasets too. This will get us scatter and raster displays for all kinds of datasets...\n",
        "  \n",
        "      \n",
        "(6) List of prototypes : Demonstration that ngCASA algorithms and science use cases can be implemented and scale as expected.\n",
        "\n",
        "Imaging : Weighting, Gridding, Imaging (with mosaic?). \n",
        " ( For imaging, this is enough.)\n",
        "\n",
        "Flagging : Implement manual flags using native python selections and demonstrate that this scales with realistic flag command sizes. (Autoflags are simpler, structurally). \n",
        "\n",
        "Calibration : Implement a gain solve and apply.  Demonstrate a complicated sequence of data preprocessing and reshaping steps in between a series of cal solve/apply steps. \n",
        "\n",
        "Visualization : Use OTS python libs to demonstrate interactive plotting of large volumes of data. \n",
        "\n",
        "Simulation :  Generate a simulated dataset to mimic a real observed dataset and show that meta-data are accurate. \n",
        "\n",
        "Pipeline Usage Modes : Generation of outputs, editing of input datasets, array/flag names/versions, pipeline as a DAG.  String together the above prototypes for a full pipeline demo ! "
      ]
    },
    {
      "cell_type": "markdown",
      "metadata": {
        "id": "dKODI9VAY_95",
        "colab_type": "text"
      },
      "source": [
        "## Layers\n",
        "\n",
        "- Application\n",
        "- Functional Blocks\n",
        "- Lower Level\n",
        "\n",
        "This document will describe the functional block level. This level will be used by:\n",
        "\n",
        "- CASA Developers\n",
        "- Pipeline Developers\n",
        "- Advance users and algorithm developers\n",
        "\n",
        "Functional block smallest reasonable unit of data reduction work. \n",
        "\n"
      ]
    },
    {
      "cell_type": "markdown",
      "metadata": {
        "id": "387lFDKKY_97",
        "colab_type": "text"
      },
      "source": [
        "## ngCASA Function Desgin\n",
        "\n"
      ]
    },
    {
      "cell_type": "markdown",
      "metadata": {
        "id": "wYwHLuFXY_97",
        "colab_type": "text"
      },
      "source": [
        "## Chunking\n",
        "\n",
        "Zarr Chunking and Dask chunking\n"
      ]
    },
    {
      "cell_type": "markdown",
      "metadata": {
        "id": "9Ljt9IopY_97",
        "colab_type": "text"
      },
      "source": [
        "## ngCASA Pitfalls"
      ]
    },
    {
      "cell_type": "markdown",
      "metadata": {
        "id": "75u1toABY_99",
        "colab_type": "text"
      },
      "source": [
        "## Loading Data from AWS S3"
      ]
    },
    {
      "cell_type": "markdown",
      "metadata": {
        "id": "bJmw9plDY_99",
        "colab_type": "text"
      },
      "source": [
        "## Creating Graphs"
      ]
    },
    {
      "cell_type": "markdown",
      "metadata": {
        "id": "VL1Kwf8lY_99",
        "colab_type": "text"
      },
      "source": [
        "## Dask Bokeh Dashboard"
      ]
    },
    {
      "cell_type": "markdown",
      "metadata": {
        "id": "M_v8xleeY_9-",
        "colab_type": "text"
      },
      "source": [
        "## More Information\n",
        "\n",
        "Development environment, process and rules are inherited from CNGI and may be found here:\n",
        "\n",
        "https://cngi-prototype.readthedocs.io/en/latest/development.html"
      ]
    }
  ]
}