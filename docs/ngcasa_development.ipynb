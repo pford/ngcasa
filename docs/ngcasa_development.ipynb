{
  "nbformat": 4,
  "nbformat_minor": 0,
  "metadata": {
    "colab": {
      "name": "ngcasa_development.ipynb",
      "provenance": [],
      "collapsed_sections": [],
      "toc_visible": true,
      "include_colab_link": true
    },
    "kernelspec": {
      "display_name": "Python 3",
      "language": "python",
      "name": "python3"
    },
    "language_info": {
      "codemirror_mode": {
        "name": "ipython",
        "version": 3
      },
      "file_extension": ".py",
      "mimetype": "text/x-python",
      "name": "python",
      "nbconvert_exporter": "python",
      "pygments_lexer": "ipython3",
      "version": "3.7.6"
    }
  },
  "cells": [
    {
      "cell_type": "markdown",
      "metadata": {
        "id": "view-in-github",
        "colab_type": "text"
      },
      "source": [
        "<a href=\"https://colab.research.google.com/github/casangi/ngcasa/blob/master/docs/ngcasa_development.ipynb\" target=\"_parent\"><img src=\"https://colab.research.google.com/assets/colab-badge.svg\" alt=\"Open In Colab\"/></a>"
      ]
    },
    {
      "cell_type": "markdown",
      "metadata": {
        "colab_type": "text",
        "id": "scU9JVUodThH"
      },
      "source": [
        "# Development\n",
        "\n",
        "[edit this notebook in colab](https://colab.research.google.com/github/casangi/ngcasa/blob/master/docs/ngcasa_development.ipynb)\n",
        "\n",
        "Radio interferometry data analysis applications and algorithms may be assembled from CNGI and ngCASA building blocks. A user may choose to implement their own analysis scripts, use a pre-packaged task similar to those in current CASA or embed ngCASA and CNGI methods in a production pipeline DAG.\n",
        "\n"
      ]
    },
    {
      "cell_type": "markdown",
      "metadata": {
        "id": "Ys3IrmPfZN99",
        "colab_type": "text"
      },
      "source": [
        "### Data Structures \n",
        "The initial exercise of defining an ngCASA API and writing example usage scripts raised the following questions related to default data structures that CNGI and ngCASA will adopt.\n",
        "\n",
        "#### Visibilities zarr/xarray\n",
        "A default list of array names is as defined in CNGI. But, to get the ability to have versions of arrays, any application may add arrays as needed. Examples are corrected_data_1, corrected_data_2, flag_original, flag_auto, etc. All additional arrays must conform to the same meta-data and coordinates. But now, all methods (even CNGI) need the ability to specify an array name to use, with the default being from the core definition. \n",
        "\n",
        "#### Image zarr/xarray\n",
        " What is the default list of array names (i.e. image products) to store here ? The current specification in CNGI is tied closely to the casa6 tclean's list of outputs. However, not app applications/users will need this full list. Therefore, we perhaps should require that an image dataset contain a minimum of 1 array with a predefined default name, but then allow the appending of more. All image arrays within a set must share the same shape and coordinate metadata. Here too, all methods (even CNGI) that operate on images must have the ability to specify an array name to use. \n",
        "\n",
        "#### A Caltable\n",
        "Need to define the default structure of a zarr/xarray dataset meant to store calibration solutions. Same requirements from above apply here too.\n",
        "\n",
        "#### Primary Beam models Convolution Function Cache\n",
        "We need a persistent data structure to store and use gridding convolution functions. The imaging prototype is developing one, related to the casa6 CFCache. A mechanism to convert between a Primary-Beam model database and a convolution function cache must also be designed. \n",
        "\n",
        "#### Flux Component List\n",
        "We need a definition of a component list as an alternative to a raster image. This is required for compatibility with catalogues and translation between sky models that are not fitted/evaluated on a pixellated grid. \n",
        "\n",
        "  \n",
        "\n",
        "\n",
        "\n",
        "      \n"
      ]
    },
    {
      "cell_type": "markdown",
      "metadata": {
        "id": "u2E0Zv4CCalJ",
        "colab_type": "text"
      },
      "source": [
        "### List of future prototypes\n",
        "The following are suggestions to add to the list of CNGI and ngCASA prototypes that demonstrate that algorithms and science use cases can be implemented with minimal complexity and that they scale as expected. \n",
        "\n",
        "Note : This list is preliminary in content, and has no fixed timelines associated with it. \n",
        "\n",
        "#### Infrastructure : Join Operation\n",
        "\n",
        "Demonstrate a join operation for zarr/xds datasets for visibilities, images, caltables, CF-caches, etc. \n",
        "\n",
        "- Visibilities : A common use case is to combine data from multiple datasets that may not share meta-data or be consistent in shape. Some algorithms must be done on each dataset (or subset) separately, whereas others are to be done on an entire set.   \n",
        "    - Option1 : Always work with small homogeneous subsets of data and have the application layer manage lists and merging of products (via loops). \n",
        "    - Option2 : Implement a join and then use data selection as needed. All applications then strictly can take single datasets as inputs. Algorithms such as imaging can view it as a single large dataset. However, for some algorithms (such as calibration solutions that must pay attention to different meta-data across subsets) the internal diversity will still have to be managed through loops inside the methods.\n",
        " \n",
        "  Current CASA6 has a mix of both the following and this is a significant source of inconsistency. Can the new framework simplify any book-keeping for this use-case without sacrificing other aspects such as performance ? \n",
        "\n",
        "- Images : Applications may need to work with multiple image sets that may not share the same shape or meta-data. \n",
        "  - Should there be a join operation for images, should there only be custom combination methods, or should the application layer manage lists of image sets ?\n",
        "  - Example use cases are linear mosaics where a list of small images is combined onto a larger image grid (as an explicit weighted average of images, where the primary beam is used as the weight) and multi-field imaging where main and outlier fields have vastly differing meta-data.\n",
        "\n",
        " \n",
        "#### Infrastructure : Re-bin and Expand\n",
        "The reverse operation of time/chan average or rebin/regrid operations. Visibility processing methods should (where mathematically possible) support transformations in both directions, with clear conventions implemented.  \n",
        "\n",
        "  - E.g. vis.timeaverage () followed by 'edit flags' and then write back to original dataset ? FLAG value is to be copied during expansion. \n",
        "  - E.g. Caltable solutions need an interpolation to get back to the original data resolution. Interpolation+Extrapolation.\n",
        "\n",
        "\n",
        "#### Applications/Algorithms : Imaging\n",
        "\n",
        "- Step 1 : A [fully functioning imaging prototype](https://ngcasa.readthedocs.io/en/latest/prototypes.html) exists and has demonstrated imaging weight calculations, basic gridding and image formation using a python-numba implementation. Equivalence with casa6's standard gridder has been established along with a performance comparison and demonstrations on a local workstation (with pre-specified resource constraints) as well as AWS. \n",
        "\n",
        "- Step 2 : Over the next several months, this prototype will be extended to include mosaic gridding/imaging and the design of a fully-featured convolution function cache (based on the casa6 awproject gridder cfcache). Demonstrations will likely include a large ALMA cube mosaic imaging example.\n",
        "\n",
        "- Step 3 : Time permitting, this work will be further extended to include support for heterogenous arrays (dish shapes and pointing offsets) and corresponding demonstrations via ALMA or ngVLA simulations may be written. \n",
        "\n",
        "#### Applications/Algorithms : Flagging \n",
        "\n",
        "- Step 1 : Implement manual flag commands using native python-based xarray selection syntax and demonstrate that this scales with realistic flag command counts (several 1000 independent data selections) \n",
        "\n",
        "#### Applications/Algorithms : Calibration (TBD)\n",
        "\n",
        "- Step 1 : Implement a gain solve and apply.  \n",
        "\n",
        "- Step 2 :  Demonstrate a complicated sequence of data preprocessing and reshaping steps in between a series of cal solve/apply steps. \n",
        "\n",
        "#### Applications/Algorithms : Simulation\n",
        "- Step 1 : Generate a simulated dataset to mimic a real observed dataset and show that meta-data are accurate. \n",
        "- Step 2 : If feasible, demonstrate an ngVLA simulation by integrating the simulator meta-data generation with the imager prototype (preferably after full heterogenous array support is ready).\n",
        "\n",
        "\n",
        "#### Applications : Visualization \n",
        "\n",
        "- Step 1 : Use off-the-shelf python libraries to demonstrate interactive plotting of large volumes of data. \n",
        "\n",
        "- Step 2 : Demonstrate the use of python visualization tools from within an ngCASA application or user script. The purpose is to support flexible interactive visualization as part of algorithms and applications. Features to be included for evaluation for this use case are as follows : \n",
        "\n",
        "  - Array 'versioning' implemented as separately named arrays allows a user to visualize multiple versions (of flags, or corrected_data, or model_Data). The visualization tool should allow the user to specify what (non-default) array names to use/plot.\n",
        "\n",
        "  - On-the-fly visualization must be possible using the currently-available xarray dataset (which may or may not have a zarr counterpart).  \n",
        "   - Flagging : An example use case is [autoflagging](https://ngcasa.readthedocs.io/en/latest/ngcasa_flagging.html#Autoflag-with-extension-and-pre-existing-flags) where it is often useful to inspect flags, discard them, try new autoflag parameters, re-inspect, and save flags only when satisfied. \n",
        "   - Imaging : [Interactive mask drawing and iteration control](https://ngcasa.readthedocs.io/en/latest/ngcasa_imaging.html#Interactive-Clean) editing is another use case.\n",
        "\n",
        "\n",
        "  - Visualization must apply to zarr/xarray datasets such that they are usable (interchangeably, within reason) for visibility datasets, caltables and images. This merges the roles of what has traditionally been separate in casa6 as plotms and the viewer and will get us (at least) scatter and raster displays for all kinds of datasets that we support. \n",
        "\n",
        "\n",
        "\n",
        "#### Pipeline Usage Modes\n",
        "\n",
        "- Step 1 : Demonstrate a pipeline use case of operating on a diverse dataset containing multiple meta-data sub-structures (EBs, pointings, etc), with some algorithmic steps being run separately and some on the joint data. Demonstrate the role of the xarray/dask framework in simplifying the management of data selections/splits, parallelization, and combination for imaging. Demonstrate the use of array/flag versions, etc.\n",
        "\n",
        "- Step 2 : String together all the above prototypes into a full pipeline demonstration. \n",
        "\n",
        "\n",
        "\n"
      ]
    },
    {
      "cell_type": "markdown",
      "metadata": {
        "id": "dKODI9VAY_95",
        "colab_type": "text"
      },
      "source": [
        "## Layers\n",
        "\n",
        "- Application\n",
        "- Functional Blocks\n",
        "- Lower Level\n",
        "\n",
        "This document will describe the functional block level. This level will be used by:\n",
        "\n",
        "- CASA Developers\n",
        "- Pipeline Developers\n",
        "- Advance users and algorithm developers\n",
        "\n",
        "Functional block smallest reasonable unit of data reduction work. \n",
        "\n"
      ]
    },
    {
      "cell_type": "markdown",
      "metadata": {
        "id": "387lFDKKY_97",
        "colab_type": "text"
      },
      "source": [
        "## ngCASA Function Desgin\n",
        "\n",
        "\n"
      ]
    },
    {
      "cell_type": "markdown",
      "metadata": {
        "id": "wYwHLuFXY_97",
        "colab_type": "text"
      },
      "source": [
        "## Chunking\n",
        "\n",
        "Zarr Chunking and Dask chunking\n"
      ]
    },
    {
      "cell_type": "markdown",
      "metadata": {
        "id": "9Ljt9IopY_97",
        "colab_type": "text"
      },
      "source": [
        "## ngCASA Pitfalls"
      ]
    },
    {
      "cell_type": "markdown",
      "metadata": {
        "id": "75u1toABY_99",
        "colab_type": "text"
      },
      "source": [
        "## Loading Data from AWS S3"
      ]
    },
    {
      "cell_type": "markdown",
      "metadata": {
        "id": "bJmw9plDY_99",
        "colab_type": "text"
      },
      "source": [
        "## Creating Graphs"
      ]
    },
    {
      "cell_type": "markdown",
      "metadata": {
        "id": "VL1Kwf8lY_99",
        "colab_type": "text"
      },
      "source": [
        "## Dask Bokeh Dashboard"
      ]
    },
    {
      "cell_type": "markdown",
      "metadata": {
        "id": "M_v8xleeY_9-",
        "colab_type": "text"
      },
      "source": [
        "## More Information\n",
        "\n",
        "Development environment, process and rules are inherited from CNGI and may be found here:\n",
        "\n",
        "https://cngi-prototype.readthedocs.io/en/latest/development.html"
      ]
    }
  ]
}