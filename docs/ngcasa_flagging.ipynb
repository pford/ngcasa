{
  "nbformat": 4,
  "nbformat_minor": 0,
  "metadata": {
    "kernelspec": {
      "display_name": "Python 3",
      "language": "python",
      "name": "python3"
    },
    "language_info": {
      "codemirror_mode": {
        "name": "ipython",
        "version": 3
      },
      "file_extension": ".py",
      "mimetype": "text/x-python",
      "name": "python",
      "nbconvert_exporter": "python",
      "pygments_lexer": "ipython3",
      "version": "3.6.4"
    },
    "colab": {
      "name": "ngcasa_flagging.ipynb",
      "provenance": [],
      "collapsed_sections": [],
      "toc_visible": true,
      "include_colab_link": true
    }
  },
  "cells": [
    {
      "cell_type": "markdown",
      "metadata": {
        "id": "view-in-github",
        "colab_type": "text"
      },
      "source": [
        "<a href=\"https://colab.research.google.com/github/casangi/ngcasa/blob/master/docs/ngcasa_flagging.ipynb\" target=\"_parent\"><img src=\"https://colab.research.google.com/assets/colab-badge.svg\" alt=\"Open In Colab\"/></a>"
      ]
    },
    {
      "cell_type": "markdown",
      "metadata": {
        "id": "aQ2HVIc9VmfB",
        "colab_type": "text"
      },
      "source": [
        "# Flagging\n",
        "\n",
        "[edit this notebook in colab](https://colab.research.google.com/github/casangi/ngcasa/blob/master/docs/ngcasa_flagging.ipynb)\n",
        "\n",
        "Flags are stored as Boolean arrays in the zarr and xarray datasets. \n",
        "\n",
        "Flag versions are maintained by giving these arrays names. Each flagging method can write to a specified named flag array. \n",
        "\n",
        "Applications that use flags will read from the specified flag array name and set corresponding data array values to NaN (using cngi.vis.applyflags()) before proceeding.\n",
        "See : https://cngi-prototype.readthedocs.io/en/latest/visibilities.html#Flagging\n",
        "\n",
        "Interactive flag visualization may be done at the application layer by inserting a plotting/visualization step in between any of the calls to ngcasa.flagging methods. Flag versions may be managed (merged, copied, deleted) using the ngcasa.flagging.manage_flags() method. For the inevitable experimentation required to tune autoflag parameters, a named flag array may be created, used, visualized, and then discarded. \n",
        "\n"
      ]
    },
    {
      "cell_type": "markdown",
      "metadata": {
        "id": "X5JEWtquriK8",
        "colab_type": "text"
      },
      "source": [
        "## Manual and meta-data based flags\n",
        "Online flags typically consist of many (1000s) of data selection queries that mark regions to be flagged. \n",
        "\n",
        "Shadow and elevation flagging is also typically done."
      ]
    },
    {
      "cell_type": "code",
      "metadata": {
        "id": "Ivy2KnNBVmfN",
        "colab_type": "code",
        "colab": {}
      },
      "source": [
        "#Construct a selected vis dataset\n",
        "vis_dataset = cngi.dio.read_vis(visname, selpars)\n",
        "\n",
        "#Define manual flags using the 'isel' syntax that references keywords in the zarr/xds\n",
        "# https://cngi-prototype.readthedocs.io/en/latest/visibilities.html#Selection-and-Splitting\n",
        "\n",
        "list_sels = [{'time':[76,77,78], 'chan':[6,7,8,12]},\n",
        "             {'time':[112,113], 'chan':[6,7,56]}]\n",
        "\n",
        "# Set the FLAG to 1 for all points in the union of all selections\n",
        "ngcasa.flagging.manual_flag(vis_dataset,list_sels, flag_name='FLAG')\n",
        "\n",
        "# Calculate shadow and elevation flags\n",
        "ngcasa.flagging.elevation(vis_dataset)\n",
        "ngcasa.flagging.shadow(vis_dataset)"
      ],
      "execution_count": 0,
      "outputs": []
    },
    {
      "cell_type": "markdown",
      "metadata": {
        "id": "o1y9ZQIqVmfS",
        "colab_type": "text"
      },
      "source": [
        "## Autoflag with extension and pre-existing flags\n",
        "This example demonstrates the use-case of extending flags generated only by\n",
        "the autoflag algorithm, but not all manually-set pre-existing flags. \n",
        "\n",
        "This is a use-case currently not possible in the casa6 flagger framework. "
      ]
    },
    {
      "cell_type": "code",
      "metadata": {
        "id": "17z-l2saVmfT",
        "colab_type": "code",
        "colab": {}
      },
      "source": [
        "#Construct a selected vis dataset\n",
        "vis_dataset = cngi.dio.read_vis(visname, selpars)\n",
        "\n",
        "# Do some manual flagging and save the flags to the FLAG column. \n",
        "ngcasa.flagging.manual_flag(vis_dataset, list_sels, out_flag_name='FLAG')\n",
        "\n",
        "# Run the rflag algorithm using FLAG as the pre-existing flags,\n",
        "# Write only the new flags into a new FLAG_AUTO array.\n",
        "ngcasa.flagging.auto_rflag(vis_dataset_avg,algopars,\n",
        "                           in_flag_name='FLAG',\n",
        "                           out_flag_name='FLAG_AUTO')\n",
        "\n",
        "# Extend only the new autoflags, but not all pre-existing flags\n",
        "ngcasa.flagging.extend(vis_dataset,extendpars, \n",
        "                    in_flag_name='FLAG_AUTO',\n",
        "                    out_flag_name='FLAG_AUTO')\n",
        "\n",
        "# Now, merge the flags using a logical OR, and save it into the default 'FLAG' array\n",
        "ngcasa.flagging.manage_flags(vis_dataset,\n",
        "                             in_flags=['FLAG','FLAG_AUTO'], \n",
        "                             out_flag_name='FLAG', \n",
        "                             op='or')\n",
        "\n",
        "## < Visualize the flags by plotting the data with a chosen flagversion > \n",
        "## < If unsatified, discard flagversion using a cngi.dio.xxxx step and repeat the above >\n",
        "\n",
        "## Save vis_dataset to zarr.\n",
        "cngi.dio.write_zarr(vis_dataset)"
      ],
      "execution_count": 0,
      "outputs": []
    },
    {
      "cell_type": "markdown",
      "metadata": {
        "id": "9mlQHulcVmfY",
        "colab_type": "text"
      },
      "source": [
        "## Autoflag with pre-averaging\n",
        "This example demonstrates averaging for autoflagging, expanding the flags back to the original dataset. Two manual flag calls are also included, one on the original data and one after averaging.\n",
        "\n",
        "Flag expansion is done as a regrid operation. "
      ]
    },
    {
      "cell_type": "code",
      "metadata": {
        "id": "GAOOj_dYVmfY",
        "colab_type": "code",
        "colab": {}
      },
      "source": [
        "# Construct a selected vis dataset\n",
        "vis_dataset = cngi.dio.read_vis(visname, selpars)\n",
        "\n",
        "# (1) Do some manual flagging and save the flags to the FLAG column. \n",
        "ngcasa.flagging.manual_flag(vis_dataset, list_sels_original, out_flag_name='FLAG')\n",
        "\n",
        "# Now, average the data in both time and frequency prior to running autoflag.\n",
        "vis_dataset_time_avg = cngi.vis.timeaverage(vis_dataset)\n",
        "vis_dataset_time_freq_avg = cngi.vis.chanaverage(vis_dataset_time_avg)\n",
        "\n",
        "# (2) Run the tfcrop algorithm using FLAG as the pre-existing flags\n",
        "# and save the new flags into the same flag array.\n",
        "ngcasa.flagging.auto_tfcrop(vis_dataset_time_freq_avg,algopars,\n",
        "                           in_flag_name='FLAG',\n",
        "                           out_flag_name='FLAG')\n",
        "\n",
        "# (3) Manual flags, using meta-data corresponding to the averaged-data.\n",
        "ngcasa.flagging.manual_flag(vis_dataset_time_freq_avg, list_sels_lowres, out_flag_name='FLAG')\n",
        "\n",
        "# (4) Manual unflag, using meta-data corresponding to the averaged-data\n",
        "ngcasa.flagging.manual_unflag(vis_dataset_time_freq, list_sels_lowres_unflag, out_flag_name='FLAG')\n",
        "\n",
        "\n",
        "# Now, expand the flags back to the original resolution. \n",
        "#        Note that Step (1) was already on the original data. \n",
        "#        The results of Steps (2) and (3) and (4) will get expanded out. \n",
        "#\n",
        "## TBD : Need a demo at the CNGI level of how to expand flags back to the original data\n",
        "##       Expansion is a regrid where the same value is repeated across the expanded range.\n",
        "cngi.vis.regrid(in_xds=vis_dataset_time_freq, out_xds=vis_dataset)\n",
        "\n",
        "# Save to disk\n",
        "cngi.dio.write_zarr(vis_dataset)"
      ],
      "execution_count": 0,
      "outputs": []
    },
    {
      "cell_type": "markdown",
      "metadata": {
        "id": "kLOHq6YKVmfo",
        "colab_type": "text"
      },
      "source": [
        "## FlagVersion handling for pipelines\n",
        "Save and restore flag versions, along with dataset selections/splits.\n",
        "\n",
        "The use case is based on current operations with casa6, where parallelization is implemented by partitioning the data and running operations that set flags, on each subset.  It is TBD whether this use-case is still relevant with CNGI and ngCASA, but here is an example to showcase how this may be achieved. \n",
        "\n",
        "TBD : Need input from pipeline group : Does this represent a relevant use case ? "
      ]
    },
    {
      "cell_type": "code",
      "metadata": {
        "id": "jP2-C1saVmfp",
        "colab_type": "code",
        "colab": {}
      },
      "source": [
        "#Construct several selected vis datasets\n",
        "vis_dataset_target1 = cngi.dio.read_vis(visname, selpars_target1)\n",
        "vis_dataset_target2 = cngi.dio.read_vis(visname, selpars_target2)\n",
        "\n",
        "# Do different operations on the two datasets\n",
        "cngi.ngcasa.autoflag_rflag(vis_dataset_target1)\n",
        "cngi.ngcasa.manual_flag(vis_dataset_target2,list_sels_to_flag)\n",
        "\n",
        "# Regrid/expand the flags back to the original dataset\n",
        "cngi.vis.regrid(in_xds=vis_dataset_target1, out_xds=vis_dataset)\n",
        "cngi.vis.regrid(in_xds=vis_dataset_target2, out_xds=vis_dataset)\n",
        "\n",
        "# Save to disk\n",
        "cngi.dio.write_zarr(vis_dataset)"
      ],
      "execution_count": 0,
      "outputs": []
    }
  ]
}