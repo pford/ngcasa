{
 "cells": [
  {
   "cell_type": "markdown",
   "metadata": {
    "colab_type": "text",
    "id": "view-in-github"
   },
   "source": [
    "<a href=\"https://colab.research.google.com/github/casangi/ngcasa/blob/master/docs/prototypes/continuum_imaging_example.ipynb\" target=\"_parent\"><img src=\"https://colab.research.google.com/assets/colab-badge.svg\" alt=\"Open In Colab\"/></a>"
   ]
  },
  {
   "cell_type": "markdown",
   "metadata": {
    "colab_type": "text",
    "id": "scU9JVUodThH"
   },
   "source": [
    "# Continuum Imaging \n",
    "\n",
    "This notebook will demonstrate how to create a continuum dirty image with natural weighting using ngCASA. The resulting image will be compared with an image created by CASA. \n",
    "\n",
    "For this demonstration data from the ALMA First Look at Imaging CASAguide (https://casaguides.nrao.edu/index.php/First_Look_at_Imaging) will be used. The measurement set has been converted to vis.zarr (using convert_ms in cngi.conversion) and uploaded to the AWS S3 cloud.  This walkthrough is designed to be run in a Jupyter notebook on Google Colaboratory. To open the notebook in colab, go [here](https://colab.research.google.com/github/casangi/ngcasa/blob/master/docs/prototypes/continuum_imaging_example.ipynb).\n"
   ]
  },
  {
   "cell_type": "markdown",
   "metadata": {
    "colab_type": "text",
    "id": "znAYKj-Ym-xK"
   },
   "source": [
    "## Installation\n",
    "\n",
    "- S3Fs is a pythonic file interface to AWS S3 cloud storage (all the needed data is stored here).\n",
    "- ngcasa is the prototype for the next generation of CASA software.\n",
    "- cngi-prototype casa next generation infrastructure.\n"
   ]
  },
  {
   "cell_type": "code",
   "execution_count": 0,
   "metadata": {
    "colab": {},
    "colab_type": "code",
    "id": "SwzBGY3JdThK",
    "outputId": "d1d89d78-3bd9-4899-b2a4-48b51cb94d4d"
   },
   "outputs": [
    {
     "name": "stdout",
     "output_type": "stream",
     "text": [
      "complete\n"
     ]
    }
   ],
   "source": [
    "import os\n",
    "os.system(\"pip install s3fs\")\n",
    "os.system(\"pip install ngcasa==0.0.9\")\n",
    "os.system(\"pip install cngi-prototype==0.0.53\")\n",
    "print(\"complete\")"
   ]
  },
  {
   "cell_type": "markdown",
   "metadata": {
    "colab_type": "text",
    "id": "1MHD3UjQdThP"
   },
   "source": [
    "## Download Data from AWS S3 Cloud\n"
   ]
  },
  {
   "cell_type": "code",
   "execution_count": 16,
   "metadata": {
    "colab": {
     "base_uri": "https://localhost:8080/",
     "height": 68
    },
    "colab_type": "code",
    "id": "rFkS-UIfm5xA",
    "outputId": "b7befd2a-ebff-47ff-8952-50c968f3922b"
   },
   "outputs": [
    {
     "name": "stdout",
     "output_type": "stream",
     "text": [
      "AWS S3 Path found\n",
      "<xarray.Dataset>\n",
      "Dimensions:         (baseline: 210, chan: 384, pair: 2, pol: 1, receptor: 2, spw: 1, time: 270, uvw_index: 3)\n",
      "Coordinates:\n",
      "    antennas        (baseline, pair) int32 dask.array<chunksize=(210, 2), meta=np.ndarray>\n",
      "  * baseline        (baseline) int64 0 1 2 3 4 5 6 ... 204 205 206 207 208 209\n",
      "  * chan            (chan) float64 3.725e+11 3.725e+11 ... 3.728e+11 3.728e+11\n",
      "    chan_width      (chan) float64 dask.array<chunksize=(12,), meta=np.ndarray>\n",
      "    corr_product    (receptor, pol) int32 dask.array<chunksize=(2, 1), meta=np.ndarray>\n",
      "    effective_bw    (chan) float64 dask.array<chunksize=(12,), meta=np.ndarray>\n",
      "    field           (time) <U6 dask.array<chunksize=(270,), meta=np.ndarray>\n",
      "    interval        (time) float64 dask.array<chunksize=(270,), meta=np.ndarray>\n",
      "    observation     (time) <U22 dask.array<chunksize=(270,), meta=np.ndarray>\n",
      "  * pol             (pol) int32 9\n",
      "    processor       (time) <U14 dask.array<chunksize=(270,), meta=np.ndarray>\n",
      "    resolution      (chan) float64 dask.array<chunksize=(12,), meta=np.ndarray>\n",
      "    scan            (time) int32 dask.array<chunksize=(270,), meta=np.ndarray>\n",
      "  * spw             (spw) int32 0\n",
      "    state           (time) <U82 dask.array<chunksize=(270,), meta=np.ndarray>\n",
      "  * time            (time) datetime64[ns] 2012-11-19T07:56:26.544000626 ... 2012-11-19T09:07:28.607999802\n",
      "  * uvw_index       (uvw_index) <U2 'uu' 'vv' 'ww'\n",
      "Dimensions without coordinates: pair, receptor\n",
      "Data variables:\n",
      "    ARRAY_ID        (time, baseline) int32 dask.array<chunksize=(270, 210), meta=np.ndarray>\n",
      "    DATA            (time, baseline, chan, pol) complex128 dask.array<chunksize=(270, 210, 12, 1), meta=np.ndarray>\n",
      "    EXPOSURE        (time, baseline) float64 dask.array<chunksize=(270, 210), meta=np.ndarray>\n",
      "    FEED1           (time, baseline) int32 dask.array<chunksize=(270, 210), meta=np.ndarray>\n",
      "    FEED2           (time, baseline) int32 dask.array<chunksize=(270, 210), meta=np.ndarray>\n",
      "    FLAG            (time, baseline, chan, pol) bool dask.array<chunksize=(270, 210, 12, 1), meta=np.ndarray>\n",
      "    FLAG_ROW        (time, baseline) bool dask.array<chunksize=(270, 210), meta=np.ndarray>\n",
      "    IMAGING_WEIGHT  (time, baseline, chan, pol) float64 dask.array<chunksize=(270, 210, 12, 1), meta=np.ndarray>\n",
      "    SIGMA           (time, baseline, pol) float64 dask.array<chunksize=(270, 210, 1), meta=np.ndarray>\n",
      "    TIME_CENTROID   (time, baseline) float64 dask.array<chunksize=(270, 210), meta=np.ndarray>\n",
      "    UVW             (time, baseline, uvw_index) float64 dask.array<chunksize=(270, 210, 3), meta=np.ndarray>\n",
      "    WEIGHT          (time, baseline, pol) float64 dask.array<chunksize=(270, 210, 1), meta=np.ndarray>\n",
      "Attributes:\n",
      "    assoc_spw_id:               []\n",
      "    auto_correlations:          0\n",
      "    bbc_no:                     2\n",
      "    ddi:                        0\n",
      "    freq_group:                 0\n",
      "    freq_group_name:            \n",
      "    if_conv_chain:              0\n",
      "    make_imaging_weights_time:  1.7957208156585693\n",
      "    meas_freq_ref:              1\n",
      "    name:                       ALMA_RB_07#BB_2#SW-01#FULL_RES\n",
      "    net_sideband:               2\n",
      "    num_chan:                   384\n",
      "    ref_frequency:              372520022603.63745\n",
      "    total_bandwidth:            234366781.0546875\n",
      "Time to store and execute graph  write_zarr 15.029973983764648\n",
      "Time to store and execute graph  write_zarr 0.5423023700714111\n",
      "Finished downloading files\n"
     ]
    }
   ],
   "source": [
    "import s3fs\n",
    "from cngi.dio import write_zarr \n",
    "import xarray as xr\n",
    "\n",
    "# Initialize the S3 \"file system\"\n",
    "s3 = s3fs.S3FileSystem(anon=True, requester_pays=False)\n",
    "\n",
    "# Specify AWS S3 paths\n",
    "bucket = \"cngi-prototype-test-data/\"\n",
    "s3_path = bucket+\"test_data/\"\n",
    "\n",
    "if s3.isdir(s3_path): # it's working\n",
    "    print(\"AWS S3 Path found\")\n",
    "\n",
    "s3_vis = s3_path+\"sis14_twhya_field_5_lsrk_pol_xx.vis.zarr/0\"\n",
    "s3_metadata = s3_path+\"sis14_twhya_field_5_lsrk_pol_xx.vis.zarr/global\"\n",
    "s3_casa_image = s3_path+\"casa_twhya_standard_gridder_lsrk_mfs_natural.img.zarr\" #Image created by CASA\n",
    "\n",
    "# Convert object stores to our desired MutableMapping interface\n",
    "store_vis = s3fs.S3Map(root=s3_vis, s3=s3, check=False)\n",
    "store_global = s3fs.S3Map(root=s3_metadata, s3=s3, check=False)\n",
    "store_casa_image = s3fs.S3Map(root=s3_casa_image, s3=s3, check=False)\n",
    "\n",
    "# Read zarr files\n",
    "vis_dataset = xr.open_zarr(store=store_vis,overwrite_encoded_chunks=True)\n",
    "casa_image_dataset = xr.open_zarr(store=store_casa_image)\n",
    "\n",
    "print(vis_dataset)\n",
    "\n",
    "#Saving a local copy of the dataset and CASA image\n",
    "vis_local_store = \"sis14_twhya_field_5_lsrk_pol_xx.vis.zarr/0\"\n",
    "write_zarr(vis_dataset,vis_local_store)\n",
    "\n",
    "image_local_store = \"casa_twhya_standard_gridder_lsrk_mfs_natural.img.zarr\"\n",
    "write_zarr(casa_image_dataset,image_local_store)\n",
    "\n",
    "print('Finished downloading files')"
   ]
  },
  {
   "cell_type": "markdown",
   "metadata": {},
   "source": [
    "## Load Dataset\n",
    "\n",
    "Two datasets are are needed for this notebook sis14_twhya_field_5_lsrk_pol_xx.vis.zarr and casa_twhya_standard_gridder_lsrk_mfs_natural.img.zarr (for more information about the img.zarr format go [here](https://cngi-prototype.readthedocs.io/en/latest/visibilities.html) and for the vis.zarr format go [here](https://cngi-prototype.readthedocs.io/en/latest/images.html)). \n",
    "\n",
    "The sis14_twhya_field_5_lsrk_pol_xx.vis.zarr dataset is used to create a continuum image. The dataset was created by using the ```mstransform``` command in CASA\n",
    "```python\n",
    "mstransform('sis14_twhya_calibrated_flagged.ms', outputvis='sis14_twhya_field_5_lsrk_pol_xx.ms', regridms=True, outframe='LSRK',datacolumn='data',correlation='XX',field='5')\n",
    "```\n",
    "and then convert_ms in cngi.conversion\n",
    "```python\n",
    "infile = 'sis14_twhya_field_5_lsrk_pol_xx.ms'\n",
    "outfile = 'sis14_twhya_field_5_lsrk_pol_xx.vis.zarr'\n",
    "chunk_shape=(270, 210, 12, 1)\n",
    "convert_ms(infile, outfile=outfile , chunk_shape=chunk_shape)\n",
    "```\n",
    "The conversion to 'LSRK' is necessary because cngi does not currently have an implementation and tclean does a conversion to 'LSRK' before imaging.\n",
    "\n",
    "To check the ngcasa imaging results the casa_twhya_standard_gridder_lsrk_mfs_natural.img.zarr dataset is used. This dataset was generated by running ```tclean``` in CASA\n",
    "```python\n",
    "tclean(vis='sis14_twhya_field_5_lsrk_pol_xx.ms',\n",
    "imagename='twhya_standard_gridder_lsrk_mfs_natural',\n",
    "specmode='mfs',\n",
    "deconvolver='hogbom',\n",
    "imsize=[200,400],\n",
    "cell=['0.08arcsec'],\n",
    "weighting='natural',\n",
    "threshold='0mJy',\n",
    "niter=0,stokes='XX')\n",
    "```\n",
    "and then ```image_ms``` in cngi.conversion\n",
    "```python\n",
    "infile = 'twhya_standard_gridder_lsrk_mfs_natural.image'\n",
    "outfile = 'casa_twhya_standard_gridder_lsrk_mfs_natural.img.zarr'\n",
    "convert_image(infile=infile,outfile=outfile)\n",
    "```"
   ]
  },
  {
   "cell_type": "code",
   "execution_count": 4,
   "metadata": {},
   "outputs": [
    {
     "name": "stdout",
     "output_type": "stream",
     "text": [
      "<xarray.Dataset>\n",
      "Dimensions:         (baseline: 210, chan: 384, pair: 2, pol: 1, receptor: 2, spw: 1, time: 270, uvw_index: 3)\n",
      "Coordinates:\n",
      "    antennas        (baseline, pair) int32 dask.array<chunksize=(210, 2), meta=np.ndarray>\n",
      "  * baseline        (baseline) int64 0 1 2 3 4 5 6 ... 204 205 206 207 208 209\n",
      "  * chan            (chan) float64 3.725e+11 3.725e+11 ... 3.728e+11 3.728e+11\n",
      "    chan_width      (chan) float64 dask.array<chunksize=(192,), meta=np.ndarray>\n",
      "    corr_product    (receptor, pol) int32 dask.array<chunksize=(2, 1), meta=np.ndarray>\n",
      "    effective_bw    (chan) float64 dask.array<chunksize=(192,), meta=np.ndarray>\n",
      "    field           (time) <U6 dask.array<chunksize=(270,), meta=np.ndarray>\n",
      "    interval        (time) float64 dask.array<chunksize=(270,), meta=np.ndarray>\n",
      "    observation     (time) <U22 dask.array<chunksize=(270,), meta=np.ndarray>\n",
      "  * pol             (pol) int32 9\n",
      "    processor       (time) <U14 dask.array<chunksize=(270,), meta=np.ndarray>\n",
      "    resolution      (chan) float64 dask.array<chunksize=(192,), meta=np.ndarray>\n",
      "    scan            (time) int32 dask.array<chunksize=(270,), meta=np.ndarray>\n",
      "  * spw             (spw) int32 0\n",
      "    state           (time) <U82 dask.array<chunksize=(270,), meta=np.ndarray>\n",
      "  * time            (time) datetime64[ns] 2012-11-19T07:56:26.544000626 ... 2012-11-19T09:07:28.607999802\n",
      "  * uvw_index       (uvw_index) <U2 'uu' 'vv' 'ww'\n",
      "Dimensions without coordinates: pair, receptor\n",
      "Data variables:\n",
      "    ARRAY_ID        (time, baseline) int32 dask.array<chunksize=(270, 210), meta=np.ndarray>\n",
      "    DATA            (time, baseline, chan, pol) complex128 dask.array<chunksize=(270, 210, 192, 1), meta=np.ndarray>\n",
      "    EXPOSURE        (time, baseline) float64 dask.array<chunksize=(270, 210), meta=np.ndarray>\n",
      "    FEED1           (time, baseline) int32 dask.array<chunksize=(270, 210), meta=np.ndarray>\n",
      "    FEED2           (time, baseline) int32 dask.array<chunksize=(270, 210), meta=np.ndarray>\n",
      "    FLAG            (time, baseline, chan, pol) bool dask.array<chunksize=(270, 210, 192, 1), meta=np.ndarray>\n",
      "    FLAG_ROW        (time, baseline) bool dask.array<chunksize=(270, 210), meta=np.ndarray>\n",
      "    IMAGING_WEIGHT  (time, baseline, chan, pol) float64 dask.array<chunksize=(270, 210, 192, 1), meta=np.ndarray>\n",
      "    SIGMA           (time, baseline, pol) float64 dask.array<chunksize=(270, 210, 1), meta=np.ndarray>\n",
      "    TIME_CENTROID   (time, baseline) float64 dask.array<chunksize=(270, 210), meta=np.ndarray>\n",
      "    UVW             (time, baseline, uvw_index) float64 dask.array<chunksize=(270, 210, 3), meta=np.ndarray>\n",
      "    WEIGHT          (time, baseline, pol) float64 dask.array<chunksize=(270, 210, 1), meta=np.ndarray>\n",
      "Attributes:\n",
      "    assoc_spw_id:               []\n",
      "    auto_correlations:          0\n",
      "    bbc_no:                     2\n",
      "    ddi:                        0\n",
      "    freq_group:                 0\n",
      "    freq_group_name:            \n",
      "    if_conv_chain:              0\n",
      "    make_imaging_weights_time:  1.7957208156585693\n",
      "    meas_freq_ref:              1\n",
      "    name:                       ALMA_RB_07#BB_2#SW-01#FULL_RES\n",
      "    net_sideband:               2\n",
      "    num_chan:                   384\n",
      "    ref_frequency:              372520022603.63745\n",
      "    total_bandwidth:            234366781.0546875\n",
      "    write_zarr_time:            15.029973983764648\n",
      "##############################\n",
      "<xarray.Dataset>\n",
      "Dimensions:          (chan: 1, d0: 200, d1: 400, pol: 1)\n",
      "Coordinates:\n",
      "  * chan             (chan) float64 3.726e+11\n",
      "    declination      (d0, d1) float64 dask.array<chunksize=(200, 400), meta=np.ndarray>\n",
      "  * pol              (pol) float64 9.0\n",
      "    right_ascension  (d0, d1) float64 dask.array<chunksize=(200, 400), meta=np.ndarray>\n",
      "Dimensions without coordinates: d0, d1\n",
      "Data variables:\n",
      "    IMAGE            (d0, d1, chan, pol) float64 dask.array<chunksize=(200, 400, 1, 1), meta=np.ndarray>\n",
      "    MASK             (d0, d1, chan, pol) bool dask.array<chunksize=(200, 400, 1, 1), meta=np.ndarray>\n",
      "    MODEL            (d0, d1, chan, pol) float64 dask.array<chunksize=(200, 400, 1, 1), meta=np.ndarray>\n",
      "    PB               (d0, d1, chan, pol) float64 dask.array<chunksize=(200, 400, 1, 1), meta=np.ndarray>\n",
      "    PSF              (d0, d1, chan, pol) float64 dask.array<chunksize=(200, 400, 1, 1), meta=np.ndarray>\n",
      "    RESIDUAL         (d0, d1, chan, pol) float64 dask.array<chunksize=(200, 400, 1, 1), meta=np.ndarray>\n",
      "    SUMWT            (chan, pol) float64 dask.array<chunksize=(1, 1), meta=np.ndarray>\n",
      "Attributes:\n",
      "    axisunits:            ['rad', 'rad', '', 'Hz']\n",
      "    date_observation:     2012/11/19/07\n",
      "    direction_reference:  j2000\n",
      "    imagetype:            Intensity\n",
      "    incr:                 [-3.878509448876288e-07, 3.878509448876288e-07, 1.0...\n",
      "    object_name:          tw hya\n",
      "    observer:             cqi\n",
      "    pointing_center:      11\n",
      "    rest_frequency:       3.72637e+11 hz\n",
      "    restoring_beam:       0.66379 arcsec, 0.505094 arcsec, -65.9001 deg\n",
      "    restoringbeam:        [['major.unit', 'arcsec'], ['major.value', 0.663790...\n",
      "    spectral__reference:  lsrk\n",
      "    telescope:            alma\n",
      "    telescope_position:   [2.22514e+06m, -5.44031e+06m, -2.48103e+06m] (itrf)\n",
      "    unit:                 Jy/beam\n",
      "    velocity__type:       radio\n",
      "    write_zarr_time:      0.5423023700714111\n",
      "complete\n"
     ]
    }
   ],
   "source": [
    "import xarray as xr\n",
    "vis_local_store = \"sis14_twhya_field_5_lsrk_pol_xx.vis.zarr/0\"\n",
    "image_local_store = \"casa_twhya_standard_gridder_lsrk_mfs_natural.img.zarr\"\n",
    "\n",
    "vis_dataset = xr.open_zarr(store=vis_local_store,chunks={'chan':192})\n",
    "casa_image_dataset = xr.open_zarr(store=image_local_store)\n",
    "\n",
    "print(vis_dataset)\n",
    "print('##############################')\n",
    "print(casa_image_dataset)\n",
    "print('complete')"
   ]
  },
  {
   "cell_type": "markdown",
   "metadata": {},
   "source": [
    "Note that the chunks parameter in cngi and ngcasa functions specifies the size of a chunk and not the number of chunks (in CASA ```tclean``` chanchunks refers to the number of channel chunks).\n",
    "\n",
    "The dimensionality of the sis14_twhya_field_5_lsrk_pol_xx.vis.zarr dataset is (time:270,baseline:210,chan:384,pol:1) and a zarr chunk size of (time:270,baseline:210,chan:12,pol:1) was chosen. With the ```xr.open_zarr``` function the dask chunk size was set to (time:270,baseline:210,chan:192,pol:1). For more information concerning chunking go [here](https://ngcasa.readthedocs.io/en/latest/ngcasa_development.html)."
   ]
  },
  {
   "cell_type": "markdown",
   "metadata": {
    "colab_type": "text",
    "id": "SML0aGlkesmv"
   },
   "source": [
    "## Flag Data and Create Imaging Weights \n",
    "The ```applyflags``` cngi.vis function sets all values that should be flagged to nan. The ngcasa.imaging code does not internally apply flags but does ignore nan values. [applyflags documentation](https://ngcasa.readthedocs.io/en/latest/_api/api/cngi.vis.applyflags.html#cngi.vis.applyflags)\n",
    "\n",
    "The ```make_imaging_weight``` cngi.imaging function takes the WEIGHT or WEIGHT_SPECTRUM data variables and creates IMAGING_WEIGHT data variable that has dimensions time x baseline x chan x pol (matches the visibility DATA variable). Weighting schemes that are supported include natural, uniform, briggs, briggs_abs. [make_imaging_weight documentation](https://ngcasa.readthedocs.io/en/latest/_api/api/ngcasa.imaging.make_imaging_weight.html#ngcasa.imaging.make_imaging_weight)\n",
    "\n",
    "When ```storage_parms['to_disk']``` is False no execution will occur only a graph will be generated."
   ]
  },
  {
   "cell_type": "code",
   "execution_count": 2,
   "metadata": {
    "colab": {},
    "colab_type": "code",
    "id": "u235e4Bvesmv",
    "outputId": "a7d20b03-6e19-4db7-9ac1-668aeb11284c"
   },
   "outputs": [
    {
     "name": "stdout",
     "output_type": "stream",
     "text": [
      "######################### Start make_imaging_weights #########################\n",
      "Setting default data_name  to  DATA\n",
      "Setting default uvw_name  to  UVW\n",
      "Setting default imaging_weight_name  to  IMAGING_WEIGHT\n",
      "Setting default robust  to  0.5\n",
      "WEIGHT data variable found, will use WEIGHT to calculate  IMAGING_WEIGHT\n",
      "##################### Created graph for make_psf #####################\n"
     ]
    }
   ],
   "source": [
    "from cngi.vis import applyflags\n",
    "from ngcasa.imaging import make_imaging_weight\n",
    "\n",
    "vis_dataset_flagged = applyflags(vis_dataset, flags=['FLAG', 'FLAG_ROW'])\n",
    "\n",
    "imaging_weights_parms = {}\n",
    "imaging_weights_parms['weighting'] = 'natural'\n",
    "imaging_weights_parms['chan_mode'] = 'continuum'\n",
    "imaging_weights_parms['imsize'] =  [200,400]\n",
    "imaging_weights_parms['cell'] = [0.08, 0.08]\n",
    "\n",
    "storage_parms = {}\n",
    "storage_parms['to_disk'] = False \n",
    "vis_dataset_flagged = make_imaging_weight(vis_dataset_flagged, imaging_weights_parms, storage_parms)"
   ]
  },
  {
   "cell_type": "markdown",
   "metadata": {
    "colab_type": "text",
    "id": "bLeHWWXGesmz"
   },
   "source": [
    "## Create Dirty Continuum Image\n",
    "The ```make_image``` cngi.imaging function grids the data (using the prolate spheroidal function as an anti-aliasing filter), fast Fourier transform the gridded data to an image and normalizes the image. The  ```storage_parms['to_disk'] ``` is now set to True which will trigger a compute (which includes applying the flags, creating the imaging weights and making the image).\n",
    "\n",
    "[make_image documentation](https://ngcasa.readthedocs.io/en/latest/_api/api/ngcasa.imaging.make_image.html)"
   ]
  },
  {
   "cell_type": "code",
   "execution_count": 20,
   "metadata": {
    "colab": {},
    "colab_type": "code",
    "id": "0jOzH8uBesm0",
    "outputId": "9dd009cb-541e-44c6-eb1c-1a7aa47c764a"
   },
   "outputs": [
    {
     "name": "stdout",
     "output_type": "stream",
     "text": [
      "######################### Start make_dirty_image #########################\n",
      "Setting default data_name  to  DATA\n",
      "Setting default uvw_name  to  UVW\n",
      "Setting default imaging_weight_name  to  IMAGING_WEIGHT\n",
      "Setting default image_name  to  DIRTY_IMAGE\n",
      "Setting default sum_weight_name  to  SUM_WEIGHT\n",
      "Setting default oversampling  to  100\n",
      "Setting default support  to  7\n",
      "Setting default fft_padding  to  1.2\n",
      "Setting default append  to  False\n",
      "Setting default compressor  to  Blosc(cname='zstd', clevel=2, shuffle=NOSHUFFLE, blocksize=0)\n",
      "Setting default chunks_on_disk  to  {}\n",
      "Setting default chunks_return  to  {}\n",
      "Setting default graph_name  to  make_dirty_image\n",
      "Saving dataset to  twhya_standard_gridder_lsrk_mfs_natural.img.zarr\n",
      "Time to store and execute graph  make_dirty_image 2.5207669734954834\n",
      "##################### Created new dataset with make_dirty_image #####################\n"
     ]
    }
   ],
   "source": [
    "from ngcasa.imaging import make_image\n",
    "import dask\n",
    "\n",
    "grid_parms = {}\n",
    "grid_parms['chan_mode'] = 'continuum'\n",
    "grid_parms['imsize'] =  [200,400]\n",
    "grid_parms['cell'] = [0.08, 0.08]\n",
    "        \n",
    "storage_parms = {}\n",
    "storage_parms['to_disk'] =  True\n",
    "storage_parms['outfile'] = 'twhya_standard_gridder_lsrk_mfs_natural.img.zarr'\n",
    "image_dataset = make_image(vis_dataset_flagged,grid_parms,storage_parms)"
   ]
  },
  {
   "cell_type": "markdown",
   "metadata": {
    "colab_type": "text",
    "id": "G4mILsznesm3"
   },
   "source": [
    "## Plot and Compare With CASA"
   ]
  },
  {
   "cell_type": "code",
   "execution_count": 3,
   "metadata": {
    "colab": {},
    "colab_type": "code",
    "id": "_FIxCvCpesm5",
    "outputId": "d935821c-1b06-4af5-f9c5-deb74fd7db70"
   },
   "outputs": [
    {
     "ename": "NameError",
     "evalue": "name 'image_dataset' is not defined",
     "output_type": "error",
     "traceback": [
      "\u001b[0;31m---------------------------------------------------------------------------\u001b[0m",
      "\u001b[0;31mNameError\u001b[0m                                 Traceback (most recent call last)",
      "\u001b[0;32m<ipython-input-3-ca58b8c2d502>\u001b[0m in \u001b[0;36m<module>\u001b[0;34m\u001b[0m\n\u001b[1;32m      2\u001b[0m \u001b[0;32mimport\u001b[0m \u001b[0mnumpy\u001b[0m \u001b[0;32mas\u001b[0m \u001b[0mnp\u001b[0m\u001b[0;34m\u001b[0m\u001b[0;34m\u001b[0m\u001b[0m\n\u001b[1;32m      3\u001b[0m \u001b[0;34m\u001b[0m\u001b[0m\n\u001b[0;32m----> 4\u001b[0;31m \u001b[0mdirty_image\u001b[0m \u001b[0;34m=\u001b[0m \u001b[0mimage_dataset\u001b[0m\u001b[0;34m.\u001b[0m\u001b[0mDIRTY_IMAGE\u001b[0m\u001b[0;34m[\u001b[0m\u001b[0;34m:\u001b[0m\u001b[0;34m,\u001b[0m\u001b[0;34m:\u001b[0m\u001b[0;34m,\u001b[0m\u001b[0;36m0\u001b[0m\u001b[0;34m,\u001b[0m\u001b[0;36m0\u001b[0m\u001b[0;34m]\u001b[0m \u001b[0;31m#Image created by ngCASA\u001b[0m\u001b[0;34m\u001b[0m\u001b[0;34m\u001b[0m\u001b[0m\n\u001b[0m\u001b[1;32m      5\u001b[0m \u001b[0mcasa_dirty_image\u001b[0m \u001b[0;34m=\u001b[0m \u001b[0mcasa_image_dataset\u001b[0m\u001b[0;34m[\u001b[0m\u001b[0;34m'RESIDUAL'\u001b[0m\u001b[0;34m]\u001b[0m\u001b[0;34m.\u001b[0m\u001b[0mvalues\u001b[0m\u001b[0;34m[\u001b[0m\u001b[0;34m:\u001b[0m\u001b[0;34m,\u001b[0m \u001b[0;34m:\u001b[0m\u001b[0;34m,\u001b[0m \u001b[0;36m0\u001b[0m\u001b[0;34m,\u001b[0m \u001b[0;36m0\u001b[0m\u001b[0;34m]\u001b[0m \u001b[0;31m#Image created by CASA\u001b[0m\u001b[0;34m\u001b[0m\u001b[0;34m\u001b[0m\u001b[0m\n\u001b[1;32m      6\u001b[0m \u001b[0;34m\u001b[0m\u001b[0m\n",
      "\u001b[0;31mNameError\u001b[0m: name 'image_dataset' is not defined"
     ]
    }
   ],
   "source": [
    "import matplotlib.pylab as plt\n",
    "import numpy as np\n",
    "\n",
    "dirty_image = image_dataset.DIRTY_IMAGE[:,:,0,0] #Image created by ngCASA\n",
    "casa_dirty_image = casa_image_dataset['RESIDUAL'].values[:, :, 0, 0] #Image created by CASA\n",
    "    \n",
    "#Plotting Images\n",
    "fig0, ax0 = plt.subplots(1, 2, sharey=True)\n",
    "im0 = ax0[0].imshow(casa_dirty_image)\n",
    "im1 = ax0[1].imshow(dirty_image)\n",
    "ax0[0].title.set_text('CASA Dirty Image')\n",
    "ax0[1].title.set_text('ngCASA Dirty Image')\n",
    "fig0.colorbar(im0, ax=ax0[0], fraction=0.046, pad=0.04)\n",
    "fig0.colorbar(im1, ax=ax0[1], fraction=0.046, pad=0.04)\n",
    "plt.show()\n",
    "        \n",
    "plt.figure()\n",
    "plt.imshow(casa_dirty_image - dirty_image)\n",
    "plt.title('Difference Dirty Image')\n",
    "plt.colorbar()\n",
    "plt.show()\n",
    "    \n",
    "dirty_image = dirty_image / np.max(np.abs(dirty_image))\n",
    "casa_dirty_image = casa_dirty_image / np.max(np.abs(casa_dirty_image))\n",
    "\n",
    "# Calculate max error\n",
    "max_error_dirty_image = np.max(np.abs(dirty_image - casa_dirty_image)).values\n",
    "print('Max Error',max_error_dirty_image)\n",
    "\n",
    "# Calculate root mean square error\n",
    "rms_error_dirty_image = np.linalg.norm(dirty_image - casa_dirty_image, 'fro')\n",
    "print('RMS Error',rms_error_dirty_image)"
   ]
  },
  {
   "cell_type": "markdown",
   "metadata": {},
   "source": [
    "The reason for the small difference between ngCASA and CASA is due to ngCASA using a different implementation of the Fast Fourier Transform. "
   ]
  },
  {
   "cell_type": "markdown",
   "metadata": {
    "colab_type": "text",
    "id": "XNQ92TouaqoP"
   },
   "source": [
    "## Execute this Notebook in Colab\n",
    "\n",
    "\n",
    "https://colab.research.google.com/github/casangi/ngcasa/blob/master/docs/prototypes/continuum_imaging_example.ipynb"
   ]
  }
 ],
 "metadata": {
  "colab": {
   "collapsed_sections": [],
   "include_colab_link": true,
   "name": "continuum_imaging_example.ipynb",
   "provenance": [],
   "toc_visible": true
  },
  "kernelspec": {
   "display_name": "Python 3",
   "language": "python",
   "name": "python3"
  },
  "language_info": {
   "codemirror_mode": {
    "name": "ipython",
    "version": 3
   },
   "file_extension": ".py",
   "mimetype": "text/x-python",
   "name": "python",
   "nbconvert_exporter": "python",
   "pygments_lexer": "ipython3",
   "version": "3.7.6"
  }
 },
 "nbformat": 4,
 "nbformat_minor": 1
}
