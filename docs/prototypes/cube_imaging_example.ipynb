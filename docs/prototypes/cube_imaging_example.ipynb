{
 "cells": [
  {
   "cell_type": "markdown",
   "metadata": {
    "colab_type": "text",
    "id": "view-in-github"
   },
   "source": [
    "<a href=\"https://colab.research.google.com/github/casangi/ngcasa/blob/master/docs/prototypes/cube_imaging_example.ipynb\" target=\"_parent\"><img src=\"https://colab.research.google.com/assets/colab-badge.svg\" alt=\"Open In Colab\"/></a>"
   ]
  },
  {
   "cell_type": "markdown",
   "metadata": {
    "colab_type": "text",
    "id": "scU9JVUodThH"
   },
   "source": [
    "# Cube Imaging \n",
    "\n",
    "For this demonstration we will use the data from the ALMA First Look at Imaging CASAguide (https://casaguides.nrao.edu/index.php/First_Look_at_Imaging).\n"
   ]
  },
  {
   "cell_type": "markdown",
   "metadata": {
    "colab_type": "text",
    "id": "znAYKj-Ym-xK"
   },
   "source": [
    "## Installation\n",
    "\n",
    "- S3Fs is a pythonic file interface to AWS S3 cloud storage (all the needed data is stored here).\n",
    "- ngcasa is the prototype for the next generation of CASA software.\n",
    "- graphviz is required for visualizing the task graph.\n",
    "\n"
   ]
  },
  {
   "cell_type": "code",
   "execution_count": null,
   "metadata": {
    "colab": {},
    "colab_type": "code",
    "id": "SwzBGY3JdThK",
    "outputId": "d1d89d78-3bd9-4899-b2a4-48b51cb94d4d"
   },
   "outputs": [],
   "source": [
    "import os\n",
    "os.system(\"pip install s3fs\")\n",
    "os.system(\"pip install ngcasa==0.0.7\")\n",
    "os.system(\"pip install cngi-prototype==0.0.50\")\n",
    "os.system(\"pip install graphviz\")\n",
    "print(\"complete\")"
   ]
  },
  {
   "cell_type": "markdown",
   "metadata": {
    "colab_type": "text",
    "id": "1MHD3UjQdThP"
   },
   "source": [
    "Load Data from AWS S3 Cloud\n"
   ]
  },
  {
   "cell_type": "code",
   "execution_count": 2,
   "metadata": {
    "colab": {
     "base_uri": "https://localhost:8080/",
     "height": 68
    },
    "colab_type": "code",
    "id": "rFkS-UIfm5xA",
    "outputId": "b7befd2a-ebff-47ff-8952-50c968f3922b"
   },
   "outputs": [
    {
     "name": "stdout",
     "output_type": "stream",
     "text": [
      "AWS S3 Path found\n",
      "Time to store and execute graph  write_zarr 1.029242992401123\n",
      "Time to store and execute graph  write_zarr 1.0248849391937256\n",
      "<xarray.Dataset>\n",
      "Dimensions:        (baseline: 210, chan: 7, pair: 2, pol: 1, receptor: 2, spw: 1, time: 270, uvw_index: 3)\n",
      "Coordinates:\n",
      "    antennas       (baseline, pair) int32 dask.array<chunksize=(210, 2), meta=np.ndarray>\n",
      "  * baseline       (baseline) int64 0 1 2 3 4 5 6 ... 204 205 206 207 208 209\n",
      "  * chan           (chan) float64 3.725e+11 3.725e+11 ... 3.725e+11 3.725e+11\n",
      "    chan_width     (chan) float64 dask.array<chunksize=(1,), meta=np.ndarray>\n",
      "    corr_product   (receptor, pol) int32 dask.array<chunksize=(2, 1), meta=np.ndarray>\n",
      "    effective_bw   (chan) float64 dask.array<chunksize=(1,), meta=np.ndarray>\n",
      "    field          (time) <U6 dask.array<chunksize=(270,), meta=np.ndarray>\n",
      "    interval       (time) float64 dask.array<chunksize=(270,), meta=np.ndarray>\n",
      "    observation    (time) <U22 dask.array<chunksize=(270,), meta=np.ndarray>\n",
      "  * pol            (pol) int32 9\n",
      "    processor      (time) <U14 dask.array<chunksize=(270,), meta=np.ndarray>\n",
      "    resolution     (chan) float64 dask.array<chunksize=(1,), meta=np.ndarray>\n",
      "    scan           (time) int32 dask.array<chunksize=(270,), meta=np.ndarray>\n",
      "  * spw            (spw) int32 0\n",
      "    state          (time) <U82 dask.array<chunksize=(270,), meta=np.ndarray>\n",
      "  * time           (time) datetime64[ns] 2012-11-19T07:56:26.544000626 ... 2012-11-19T09:07:28.607999802\n",
      "  * uvw_index      (uvw_index) <U2 'uu' 'vv' 'ww'\n",
      "Dimensions without coordinates: pair, receptor\n",
      "Data variables:\n",
      "    ARRAY_ID       (time, baseline) int32 dask.array<chunksize=(270, 210), meta=np.ndarray>\n",
      "    DATA           (time, baseline, chan, pol) complex128 dask.array<chunksize=(270, 210, 1, 1), meta=np.ndarray>\n",
      "    EXPOSURE       (time, baseline) float64 dask.array<chunksize=(270, 210), meta=np.ndarray>\n",
      "    FEED1          (time, baseline) int32 dask.array<chunksize=(270, 210), meta=np.ndarray>\n",
      "    FEED2          (time, baseline) int32 dask.array<chunksize=(270, 210), meta=np.ndarray>\n",
      "    FLAG           (time, baseline, chan, pol) bool dask.array<chunksize=(270, 210, 1, 1), meta=np.ndarray>\n",
      "    FLAG_ROW       (time, baseline) bool dask.array<chunksize=(270, 210), meta=np.ndarray>\n",
      "    SIGMA          (time, baseline, pol) float64 dask.array<chunksize=(270, 210, 1), meta=np.ndarray>\n",
      "    TIME_CENTROID  (time, baseline) float64 dask.array<chunksize=(270, 210), meta=np.ndarray>\n",
      "    UVW            (time, baseline, uvw_index) float64 dask.array<chunksize=(270, 210, 3), meta=np.ndarray>\n",
      "    WEIGHT         (time, baseline, pol) float64 dask.array<chunksize=(270, 210, 1), meta=np.ndarray>\n",
      "Attributes:\n",
      "    assoc_spw_id:       []\n",
      "    auto_correlations:  0\n",
      "    bbc_no:             2\n",
      "    ddi:                0\n",
      "    freq_group:         0\n",
      "    freq_group_name:    \n",
      "    if_conv_chain:      0\n",
      "    meas_freq_ref:      1\n",
      "    name:               ALMA_RB_07#BB_2#SW-01#FULL_RES\n",
      "    net_sideband:       2\n",
      "    num_chan:           7\n",
      "    ref_frequency:      372520022603.63745\n",
      "    total_bandwidth:    4272311.112915039\n",
      "    write_zarr_time:    1.029242992401123\n",
      "##############################\n",
      "<xarray.Dataset>\n",
      "Dimensions:          (chan: 7, d0: 200, d1: 400, pol: 1)\n",
      "Coordinates:\n",
      "  * chan             (chan) float64 3.725e+11 3.725e+11 ... 3.725e+11 3.725e+11\n",
      "    declination      (d0, d1) float64 dask.array<chunksize=(200, 400), meta=np.ndarray>\n",
      "  * pol              (pol) float64 9.0\n",
      "    right_ascension  (d0, d1) float64 dask.array<chunksize=(200, 400), meta=np.ndarray>\n",
      "Dimensions without coordinates: d0, d1\n",
      "Data variables:\n",
      "    IMAGE            (d0, d1, chan, pol) float64 dask.array<chunksize=(200, 400, 1, 1), meta=np.ndarray>\n",
      "    MASK             (d0, d1, chan, pol) bool dask.array<chunksize=(200, 400, 1, 1), meta=np.ndarray>\n",
      "    MODEL            (d0, d1, chan, pol) float64 dask.array<chunksize=(200, 400, 1, 1), meta=np.ndarray>\n",
      "    PB               (d0, d1, chan, pol) float64 dask.array<chunksize=(200, 400, 1, 1), meta=np.ndarray>\n",
      "    PSF              (d0, d1, chan, pol) float64 dask.array<chunksize=(200, 400, 1, 1), meta=np.ndarray>\n",
      "    RESIDUAL         (d0, d1, chan, pol) float64 dask.array<chunksize=(200, 400, 1, 1), meta=np.ndarray>\n",
      "    SUMWT            (chan, pol) float64 dask.array<chunksize=(1, 1), meta=np.ndarray>\n",
      "Attributes:\n",
      "    axisunits:            ['rad', 'rad', '', 'Hz']\n",
      "    date_observation:     2012/11/19/07\n",
      "    direction_reference:  j2000\n",
      "    imagetype:            Intensity\n",
      "    incr:                 [-3.878509448876288e-07, 3.878509448876288e-07, 1.0...\n",
      "    object_name:          tw hya\n",
      "    observer:             cqi\n",
      "    perplanebeams:        [['nChannels', 7], ['nStokes', 1], ['beams.*0.*0.ma...\n",
      "    pointing_center:      11\n",
      "    rest_frequency:       3.72522e+11 hz\n",
      "    spectral__reference:  lsrk\n",
      "    telescope:            alma\n",
      "    telescope_position:   [2.22514e+06m, -5.44031e+06m, -2.48103e+06m] (itrf)\n",
      "    unit:                 Jy/beam\n",
      "    velocity__type:       radio\n",
      "    write_zarr_time:      1.0248849391937256\n",
      "complete\n"
     ]
    }
   ],
   "source": [
    "import s3fs\n",
    "import xarray as xr\n",
    "from cngi.dio import write_zarr \n",
    "\n",
    "# Initialize the S3 \"file system\"\n",
    "s3 = s3fs.S3FileSystem(anon=True, requester_pays=False)\n",
    "\n",
    "# Specify AWS S3 paths\n",
    "bucket = \"cngi-prototype-test-data/\"\n",
    "s3_path = bucket+\"test_data/\"\n",
    "\n",
    "if s3.isdir(s3_path): # it's working\n",
    "    print(\"AWS S3 Path found\")\n",
    "\n",
    "ddi = \"0\"\n",
    "s3_vis = s3_path+\"sis14_twhya_chan_avg_field_5_lsrk_pol_xx.vis.zarr/\"+ddi\n",
    "s3_metadata = s3_path+\"sis14_twhya_chan_avg_field_5_lsrk_pol_xx.vis.zarr/global\"\n",
    "s3_casa_image = s3_path+\"casa_twhya_standard_gridder_lsrk_cube_natural.img.zarr\" #Image created by CASA\n",
    "\n",
    "# Convert object stores to our desired MutableMapping interface\n",
    "store_vis = s3fs.S3Map(root=s3_vis, s3=s3, check=False)\n",
    "store_global = s3fs.S3Map(root=s3_metadata, s3=s3, check=False)\n",
    "store_casa_image = s3fs.S3Map(root=s3_casa_image, s3=s3, check=False)\n",
    "\n",
    "# Read zarr files\n",
    "vis_dataset = xr.open_zarr(store=store_vis)\n",
    "casa_image_dataset = xr.open_zarr(store=store_casa_image)\n",
    "\n",
    "#Saving a local copy of the dataset and CASA image\n",
    "vis_local_store = \"sis14_twhya_field_5_lsrk_pol_xx.vis.zarr/\"+ddi\n",
    "write_zarr(vis_dataset,vis_local_store)\n",
    "#xr.Dataset.to_zarr(vis_dataset,store=vis_local_store, mode='w')\n",
    "vis_dataset = xr.open_zarr(store=vis_local_store)\n",
    "\n",
    "image_local_store = \"casa_twhya_standard_gridder_lsrk_cube_natural.img.zarr\"\n",
    "write_zarr(casa_image_dataset,image_local_store)\n",
    "#xr.Dataset.to_zarr(casa_image_dataset,store=image_local_store, mode='w')\n",
    "casa_image_dataset = xr.open_zarr(store=image_local_store)\n",
    "\n",
    "print(vis_dataset)\n",
    "print('##############################')\n",
    "print(casa_image_dataset)\n",
    "print('complete')"
   ]
  },
  {
   "cell_type": "markdown",
   "metadata": {
    "colab_type": "text",
    "id": "FsNYDz32nEOQ"
   },
   "source": [
    "## Initialize the Processing Environment\n",
    "InitializeFramework instantiates a client object (does not need to be returned and saved by caller). Once this object exists, all Dask objects automatically know to use it for parallel execution.  \n",
    "\n",
    "Omitting this step will cause the subsequent Dask dataframe operations to use the default built-in scheduler for parallel execution (which can actually be faster on local machines anyway)\n",
    "\n",
    "Google Colab doesn't really support the dask.distributed environment particularly well.  The code is shown here commented out for reference only."
   ]
  },
  {
   "cell_type": "code",
   "execution_count": 0,
   "metadata": {
    "colab": {},
    "colab_type": "code",
    "id": "XMrJNgs_nGfF"
   },
   "outputs": [],
   "source": [
    "# normally you would want to run something like this on a local machine\n",
    "#from cngi.direct import InitializeFramework\n",
    "#client = InitializeFramework(workers=2, memory='6GB')\n",
    "#print(client)"
   ]
  },
  {
   "cell_type": "markdown",
   "metadata": {
    "colab_type": "text",
    "id": "8-2NdsqRe_ry"
   },
   "source": [
    "## Flag Data and Create Imaging Weights \n",
    "Using imaging_weights_parms['chan_mode'] = 'cube' is equavalent to perchanweightdensity=True in CASA."
   ]
  },
  {
   "cell_type": "code",
   "execution_count": 3,
   "metadata": {
    "colab": {},
    "colab_type": "code",
    "id": "NEzRyI0De_rz",
    "outputId": "5af009d9-b3f0-423a-925c-b9163a36c8a2"
   },
   "outputs": [
    {
     "name": "stdout",
     "output_type": "stream",
     "text": [
      "######################### Start make_imaging_weights #########################\n",
      "Setting default data_name  to  DATA\n",
      "Setting default uvw_name  to  UVW\n",
      "Setting default imaging_weight_name  to  IMAGING_WEIGHT\n",
      "Setting default robust  to  0.5\n",
      "WEIGHT data variable found, will use WEIGHT to calculate  IMAGING_WEIGHT\n",
      "##################### Created graph for make_imaging_weights #####################\n"
     ]
    }
   ],
   "source": [
    "from cngi.vis import applyflags\n",
    "from ngcasa.synthesis.imaging import make_imaging_weights\n",
    "\n",
    "vis_dataset_flagged = applyflags(vis_dataset, flags=['FLAG', 'FLAG_ROW'])\n",
    "\n",
    "imaging_weights_parms = {}\n",
    "imaging_weights_parms['weighting'] = 'natural'\n",
    "imaging_weights_parms['chan_mode'] = 'cube'\n",
    "imaging_weights_parms['imsize'] =  [200,400]\n",
    "imaging_weights_parms['cell'] = [0.08, 0.08]\n",
    "\n",
    "storage_parms = {}\n",
    "storage_parms['to_disk'] = False \n",
    "vis_dataset_flagged = make_imaging_weights(vis_dataset_flagged, imaging_weights_parms, storage_parms)\n",
    "\n"
   ]
  },
  {
   "cell_type": "markdown",
   "metadata": {
    "colab_type": "text",
    "id": "gSnob3jPe_r2"
   },
   "source": [
    "## Create Dirty Cube Image"
   ]
  },
  {
   "cell_type": "code",
   "execution_count": 4,
   "metadata": {
    "colab": {},
    "colab_type": "code",
    "id": "EQ6Ziz1he_r3",
    "outputId": "9091015d-e1cc-45b9-9ad1-5c26f5de0050"
   },
   "outputs": [
    {
     "name": "stdout",
     "output_type": "stream",
     "text": [
      "######################### Start make_dirty_image #########################\n",
      "Setting default data_name  to  DATA\n",
      "Setting default uvw_name  to  UVW\n",
      "Setting default imaging_weight_name  to  IMAGING_WEIGHT\n",
      "Setting default image_name  to  DIRTY_IMAGE\n",
      "Setting default sum_weight_name  to  SUM_WEIGHT\n",
      "Setting default oversampling  to  100\n",
      "Setting default support  to  7\n",
      "Setting default fft_padding  to  1.2\n",
      "Setting default append  to  False\n",
      "Setting default compressor  to  Blosc(cname='zstd', clevel=2, shuffle=NOSHUFFLE, blocksize=0)\n",
      "Setting default chunks_on_disk  to  {}\n",
      "Setting default chunks_return  to  {}\n",
      "Setting default graph_name  to  make_dirty_image\n",
      "Saving dataset to  twhya_standard_gridder_lsrk_cube_natural.img.zarr\n",
      "Time to store and execute graph  make_dirty_image 0.3483250141143799\n",
      "##################### Created new dataset with make_dirty_image #####################\n"
     ]
    }
   ],
   "source": [
    "from ngcasa.synthesis.imaging import make_dirty_image\n",
    "\n",
    "grid_parms = {}\n",
    "grid_parms['chan_mode'] = 'cube'\n",
    "grid_parms['imsize'] =  [200,400]\n",
    "grid_parms['cell'] = [0.08, 0.08]\n",
    "        \n",
    "storage_parms = {}\n",
    "storage_parms['to_disk'] =  True\n",
    "storage_parms['outfile'] = 'twhya_standard_gridder_lsrk_cube_natural.img.zarr'\n",
    "image_dataset = make_dirty_image(vis_dataset_flagged,grid_parms,storage_parms)"
   ]
  },
  {
   "cell_type": "markdown",
   "metadata": {
    "colab_type": "text",
    "id": "i8AgTPSoe_r5"
   },
   "source": [
    "## Plot and Compare With CASA"
   ]
  },
  {
   "cell_type": "code",
   "execution_count": 8,
   "metadata": {
    "colab": {},
    "colab_type": "code",
    "id": "X05Y4vZLe_r9",
    "outputId": "28dc6650-0892-4a1d-835c-2c1a3b91fa24"
   },
   "outputs": [
    {
     "data": {
      "application/vnd.jupyter.widget-view+json": {
       "model_id": "fb82129d7a274c5e8425c72f8c7fae11",
       "version_major": 2,
       "version_minor": 0
      },
      "text/plain": [
       "interactive(children=(IntSlider(value=3, description='chan', max=6), Output(layout=Layout(height='550px'))), _…"
      ]
     },
     "metadata": {},
     "output_type": "display_data"
    }
   ],
   "source": [
    "import matplotlib.pylab as plt\n",
    "import numpy as np\n",
    "from ipywidgets import interactive\n",
    "\n",
    "def comparison_plots(chan):\n",
    "  dirty_image = image_dataset.DIRTY_IMAGE[:,:,chan,0]\n",
    "  casa_dirty_image = casa_image_dataset['RESIDUAL'].values[:, :, chan, 0]\n",
    "      \n",
    "  fig0, ax0 = plt.subplots(1, 2, sharey=True)\n",
    "  im0 = ax0[0].imshow(casa_dirty_image)\n",
    "  im1 = ax0[1].imshow(dirty_image)\n",
    "  ax0[0].title.set_text('CASA Dirty Image')\n",
    "  ax0[1].title.set_text('CNGI Dirty Image')\n",
    "  fig0.colorbar(im0, ax=ax0[0], fraction=0.046, pad=0.04)\n",
    "  fig0.colorbar(im1, ax=ax0[1], fraction=0.046, pad=0.04)\n",
    "  plt.show()\n",
    "          \n",
    "  plt.figure()\n",
    "  plt.imshow(casa_dirty_image - dirty_image)\n",
    "  plt.title('Difference Dirty Image')\n",
    "  plt.colorbar()\n",
    "  plt.show()\n",
    "      \n",
    "  dirty_image = dirty_image / np.max(np.abs(dirty_image))\n",
    "  casa_dirty_image = casa_dirty_image / np.max(np.abs(casa_dirty_image))\n",
    "\n",
    "  # Calculate max error\n",
    "  max_error_dirty_image = np.max(np.abs(dirty_image - casa_dirty_image)).values\n",
    "  print('Max Error',max_error_dirty_image)\n",
    "  # Calculate root mean square error\n",
    "  rms_error_dirty_image = np.linalg.norm(dirty_image - casa_dirty_image, 'fro')\n",
    "  print('RMS Error',rms_error_dirty_image)\n",
    "\n",
    "interactive_plot = interactive(comparison_plots, chan=(0, 6))\n",
    "output = interactive_plot.children[-1]\n",
    "output.layout.height = '550px'\n",
    "interactive_plot"
   ]
  },
  {
   "cell_type": "markdown",
   "metadata": {
    "colab_type": "text",
    "id": "XNQ92TouaqoP"
   },
   "source": [
    "## Execute this Notebook in Colab\n",
    "\n",
    "\n",
    "https://colab.research.google.com/github/casangi/ngcasa/blob/master/docs/prototypes/cube_imaging_example.ipynb"
   ]
  }
 ],
 "metadata": {
  "colab": {
   "collapsed_sections": [],
   "include_colab_link": true,
   "name": "cube_imaging_example.ipynb",
   "provenance": [],
   "toc_visible": true
  },
  "kernelspec": {
   "display_name": "Python 3",
   "language": "python",
   "name": "python3"
  },
  "language_info": {
   "codemirror_mode": {
    "name": "ipython",
    "version": 3
   },
   "file_extension": ".py",
   "mimetype": "text/x-python",
   "name": "python",
   "nbconvert_exporter": "python",
   "pygments_lexer": "ipython3",
   "version": "3.7.6"
  },
  "widgets": {
   "application/vnd.jupyter.widget-state+json": {
    "state": {},
    "version_major": 2,
    "version_minor": 0
   }
  }
 },
 "nbformat": 4,
 "nbformat_minor": 1
}
