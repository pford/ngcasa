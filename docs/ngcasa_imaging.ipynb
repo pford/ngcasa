{
  "nbformat": 4,
  "nbformat_minor": 0,
  "metadata": {
    "kernelspec": {
      "display_name": "Python 3",
      "language": "python",
      "name": "python3"
    },
    "language_info": {
      "codemirror_mode": {
        "name": "ipython",
        "version": 3
      },
      "file_extension": ".py",
      "mimetype": "text/x-python",
      "name": "python",
      "nbconvert_exporter": "python",
      "pygments_lexer": "ipython3",
      "version": "3.6.4"
    },
    "colab": {
      "name": "ngcasa_imaging.ipynb",
      "provenance": [],
      "collapsed_sections": [],
      "toc_visible": true,
      "include_colab_link": true
    }
  },
  "cells": [
    {
      "cell_type": "markdown",
      "metadata": {
        "id": "view-in-github",
        "colab_type": "text"
      },
      "source": [
        "<a href=\"https://colab.research.google.com/github/casangi/ngcasa/blob/master/docs/ngcasa_imaging.ipynb\" target=\"_parent\"><img src=\"https://colab.research.google.com/assets/colab-badge.svg\" alt=\"Open In Colab\"/></a>"
      ]
    },
    {
      "cell_type": "markdown",
      "metadata": {
        "id": "glqu7So4Vmb2",
        "colab_type": "text"
      },
      "source": [
        "# Imaging\n",
        "\n",
        "[edit this notebook in colab](https://colab.research.google.com/github/casangi/ngcasa/blob/master/docs/ngcasa_imaging.ipynb)\n",
        "\n",
        "Iterative Image reconstruction\n",
        "\n",
        "These use cases relate to the different types of images listed in https://casa.nrao.edu/casadocs/casa-5.0.0/synthesis-imaging/image-definition\n"
      ]
    },
    {
      "cell_type": "markdown",
      "metadata": {
        "id": "Py-k-jHIrSXg",
        "colab_type": "text"
      },
      "source": [
        "## Cube and Continuum (narrow-field, wide-field and joint-mosaic)\n",
        "Example : Cube or Continuum imaging (nterms=1 and nterms>1) for narrow-field, wide-field and joint mosaic imaging, including visibility pre-processing for topo-lsrk conversion and automasking.  This is a pipeline imaging use-case."
      ]
    },
    {
      "cell_type": "code",
      "metadata": {
        "id": "Tb1JVOfgVmcx",
        "colab_type": "code",
        "colab": {}
      },
      "source": [
        "#--------------------------------------------------------------------- Data Selection\n",
        "# Construct a selected vis dataset\n",
        "vis_dataset = cngi.dio.read_vis(visname, selpars)\n",
        "\n",
        "\n",
        "# -------------------------------------------------------------- Visibility Preprocessing\n",
        "# topo->lsrk + channel binning + ephemeris sources\n",
        "cngi.vis.regridspw(vis_dataset, impars)\n",
        "# Apply flags for all future steps\n",
        "cngi.vis.applyflags(vis_dataset)\n",
        "# Phasecenter rotation\n",
        "cngi.vis.rotateuvw(vis_dataset) # TBD : Here, or inside _make_grid ? \n",
        "\n",
        "\n",
        "#--------------------------------------------------------------------- Image Definition\n",
        "# Construct an empty image set\n",
        "img_dataset = cngi.dio.write_image(impars)\n",
        "# Set image weighting scheme \n",
        "ngcasa.imaging.make_imaging_weight(img_dataset, weightpars)\n",
        "# Define gridding convolution functions. Aterm, Wterm, JointMosaic are specified here.\n",
        "ngcasa.imaging.make_gridding_convolution_function(img_dataset, gridpars)\n",
        "\n",
        "#--------------------------------------------------------------------- Make initial images\n",
        "# Make PSF\n",
        "ngcasa.imaging.make_psf(img_dataset, vis_dataset, gridpars)\n",
        "# Make PB\n",
        "ngcasa.imaging.make_pb(img_dataset,vis_dataset,gridpars)\n",
        "# Make Residual image and normalize it\n",
        "ngcasa.imaging.make_residual_image(img_dataset,vis_dataset, gridpars, normpars)\n",
        "\n",
        "#------------------------------------------------------------------ Iteration Control\n",
        "# Initialize the mask\n",
        "ngcasa.imaging.make_mask(img_dataset,maskpars)\n",
        "# < Interactive Clean GUI >\n",
        "# Check convergence criteria\n",
        "iter_rec = ngcasa.imaging.is_converged(img_dataset, iterpars, None)\n",
        "\n",
        "\n",
        "# Perform iterative reconstruction\n",
        "while( iter_rec['stopcode']=='continue' ):\n",
        "    # -----------------------------------------------------------------------Minor cycle\n",
        "    exec_rec = ngcasa.imaging.deconvolve_point(img_dataset, decpars, iter_rec)\n",
        "    #-----------------------------------------------------------------------------------\n",
        "    \n",
        "    # -----------------------------------------------------------------------Major cycle\n",
        "    # Model prediction\n",
        "    ngcasa.imaging.predict_modelvis_image(img_dataset, vis_dataset, normpars, gridpars)\n",
        "    # Make residual image and normalize it.\n",
        "    ngcasa.imaging.make_residual_image(img_dataset,vis_dataset, gridpars,normpars)\n",
        "    #-----------------------------------------------------------------------------------\n",
        "\n",
        "    #------------------------------------------------------------------Iteration Control\n",
        "    # Update the mask\n",
        "    ngcasa.imaging.make_mask(img_dataset,maskpars)\n",
        "    # < Interactive Clean GUI >\n",
        "    # Check convergence criteria\n",
        "    iter_rec = ngcasa.imaging.is_converged(img_dataset, iterpars, exec_rec)\n",
        "    #-----------------------------------------------------------------------------------\n",
        "\n",
        "    \n",
        "#------------------------------------------------------------------    Restoration\n",
        "# Restore the model image\n",
        "ngcasa.imaging.restore_model(img_dataset)\n"
      ],
      "execution_count": 0,
      "outputs": []
    },
    {
      "cell_type": "markdown",
      "metadata": {
        "id": "xmcQEaQsVmc7",
        "colab_type": "text"
      },
      "source": [
        "## Other imaging algorithms (multi-term, rm-synthesis)\n",
        "\n",
        "Wide-band multi-term imaging with wideband pb-correction may be run by setting up a cube major cycle followed by deconvolve_multiterm.\n",
        "\n",
        "Rotation-measure synthesis may be called by setting up a full-stokes cube major cycle, followed by a deconvolve_rotation_measure_clean\n",
        "\n",
        "In both these cases, the deconvolution algorithm starts with an image cube, transforms the image into the sky model space (sparse basis), performs the deconvolution in that space, and transforms the model back to the cube in preparation for the next major cycle.   Wideband Primary beam correction (for Stokes I) is done simply by ensuring 'flatsky' or 'commonpb' normaliation at the end of the make_residual step. "
      ]
    },
    {
      "cell_type": "code",
      "metadata": {
        "id": "nfAvXT-2PCza",
        "colab_type": "code",
        "colab": {}
      },
      "source": [
        "# Prepare the residual image cube : Normalize to a common pb. This implements widebandpbcor. \n",
        "ngcasa.imaging.make_residual_image(img_dataset,vis_dataset, gridpars, normtype='commonpb')\n",
        "\n",
        "# Start iterative deconvolution...\n",
        "\n",
        "    # Run the deconvolver (input : residual and psf cubes, output : model cube)\n",
        "    ngcasa.imaging.deconvolve_multiterm_clea(img_dataset)\n",
        "\n",
        "    # Model prediction\n",
        "    ngcasa.imaging.predict_modelvis_image(img_dataset, vis_dataset, normpars, gridpars)\n",
        "\n",
        "    # Make residual image and normalize gain\n",
        "    ngcasa.imaging.make_residual_image(img_dataset,vis_dataset, gridpars,normtype='commonpb') "
      ],
      "execution_count": 0,
      "outputs": []
    },
    {
      "cell_type": "markdown",
      "metadata": {
        "id": "KCOmXBK1Vmc9",
        "colab_type": "text"
      },
      "source": [
        "## Interactive Clean\n",
        "\n",
        "There are two parts to interactive image reconstruction.\n",
        "\n",
        "(1) Mask drawing/viewing : Use a GUI to interactively draw a mask or to simply visualize the current mask. This may be used in conjunction with the ngcasa.imaging.make_mask() to view and/or edit the resulting region.\n",
        "\n",
        "(2) Editing iteration control parameters at run-time : The same GUI used for mask visualization may be used to display and accept edited values for user-parameters. \n",
        "\n",
        "In the above example, this interactive step would reside in between 'Update Mask' and 'Check convergence criteria'. \n",
        "\n",
        "See https://gitlab.nrao.edu/rurvashi/interactive-imaging-with-casa6  for an example (using casa6) of how this may be achieved via a stand-alone call to a GUI in-between the major and minor cycles. Convergence history may also be displayed at this stage, allowing for an interactive user to decide if iteration-control parameters should change or not. "
      ]
    },
    {
      "cell_type": "markdown",
      "metadata": {
        "id": "D42kac-sVmc_",
        "colab_type": "text"
      },
      "source": [
        "## Linear Mosaics and Joint mosaics\n",
        "\n",
        "Three options exist.\n",
        "\n",
        "(1) The gridder allows for joint mosaic phase gradients to be applied to gridding convolution functions. No change to the code shown above. This is equivalent to mosweight=False in casa6.casatasks.tclean()\n",
        "\n",
        "(2) ngcasa.imaging.linear_mosaic may be used to combine restored images from different pointings (or clusters of joint-mosaic pointings). This is a post-deconvolution step.\n",
        "\n",
        "(3) Use cngi.image.linear_mosaic() to calculate a weighted sum of images from different pointing subsets, in-between the major and minor cycles. \n",
        "- This option has the advantage of allowing smaller image sizes for individual gridder calls.\n",
        "- This implicitly implements 'mosweight=True' of casa6.casatasks.tclean() because each pointing (or subset of pointings) is gridded and normalized separately. \n",
        "\n",
        "TBD : Will we get (3) by using (1) but just choosing the partition axis to be along fields ? Almost, but no imsize reduction, and it will always be mosweight=False. \n",
        "\n",
        "Below is an implementation of (3). TBD : Can this be simplified ? "
      ]
    },
    {
      "cell_type": "code",
      "metadata": {
        "id": "cLFnDu2XVmdA",
        "colab_type": "code",
        "colab": {}
      },
      "source": [
        "## Image Reconstruction with Linear Mosaics before deconvolution.\n",
        "## Major cycle runs separately for each pointing (or subset of pointings)\n",
        "## Minor cycle runs on a joint image.\n",
        "\n",
        "img_datasets={}\n",
        "\n",
        "for imfield in list_of_fields:\n",
        "    \n",
        "    # Construct a selected vis dataset for one pointing (or subset of pointings)\n",
        "    vis_dataset = cngi.dio.read_vis(visname, selpars)\n",
        "\n",
        "    ### Code blocks from above for visibility preprocessing, image definition, make_psf, make_pb. \n",
        "    cngi.vis.regridspw(vis_dataset, impars)\n",
        "    cngi.vis.applyflags(vis_dataset)\n",
        "    cngi.vis.rotateuvw(vis_dataset) # TBD : Here, or inside _make_grid ? \n",
        "    img_dataset = cngi.dio.write_image(impars)\n",
        "    ngcasa.imaging.make_imaging_weight(img_dataset, weightpars)\n",
        "    ngcasa.imaging.make_gridding_convolution_function(img_dataset, gridpars)\n",
        "    ngcasa.imaging.make_psf(img_dataset, vis_dataset, gridpars)\n",
        "    ngcasa.imaging.make_pb(img_dataset,vis_dataset,gridpars)    \n",
        "    \n",
        "    # Make Residual image and normalize it (normalizing per pointing => mosweight=True)\n",
        "    ngcasa.imaging.make_residual_image(img_dataset,vis_dataset, gridpars, normpars)\n",
        "    \n",
        "    # Accumulate image datasets for each pointing (or subset of pointings)\n",
        "    img_datasets[imfield] =  img_dataset\n",
        "    \n",
        "# Do a linear mosaic to generate the image to send to the minor cycle\n",
        "cngi.image.linear_mosaic(img_datasets, img_linmos)\n",
        "\n",
        "# Setup iteration control and masks\n",
        "ngcasa.imaging.make_mask(img_linmos,maskpars)\n",
        "iter_rec = ngcasa.imaging.is_converged(img_linmos, iterpars, None)\n",
        "\n",
        "# Perform iterative deconvolution\n",
        "while( iter_rec['stopcode']=='continue' ):\n",
        "    exec_rec = ngcasa.imaging.deconvolve_point(img_linmos, decpars, iter_rec)\n",
        "\n",
        "    for imfield in list_of_fields:\n",
        "        # Regrid the linmos model image onto subset model images\n",
        "        cngi.image.regrid(img_linmos, img_datasets[imfield])\n",
        "        # Model prediction\n",
        "        ngcasa.imaging.predict_modelvis_image(img_datasets[imfield], vis_dataset, normpars, gridpars)\n",
        "        # Make residual image and normalize it.\n",
        "        ngcasa.imaging.make_residual_image(img_datasets[imfield],vis_dataset, gridpars,normpars)\n",
        "\n",
        "    # Do a linear mosaic to generate the image to send to the minor cycle\n",
        "    cngi.image.linear_mosaic(img_datasets, img_linmos)\n",
        "    \n",
        "    # Update iteration control and masks\n",
        "    ngcasa.imaging.make_mask(img_dataset,maskpars)\n",
        "    iter_rec = ngcasa.imaging.is_converged(img_dataset, iterpars, exec_rec)\n",
        "\n",
        "    \n",
        "#------------------------------------------------------------------    Restoration\n",
        "# Restore the model image\n",
        "ngcasa.imaging.restore_model(img_dataset)\n"
      ],
      "execution_count": 0,
      "outputs": []
    },
    {
      "cell_type": "markdown",
      "metadata": {
        "id": "t-OaMgVaVmdN",
        "colab_type": "text"
      },
      "source": [
        "## Multi-field Imaging\n",
        "\n",
        "Purpose : To image outlier sources in separate small images in addition to the main large image. \n",
        "\n",
        "Use-Cases : \n",
        "- A bright outlier source far from the region of interest would cause the image size to greatly increase if imaged as part of a single image. This single large image would also likely be mostly empty. \n",
        "- A bright outlier source requires a different gridding or deconvolution algorithm from the main field, but must be part of the same reconstruction run. A continuum detection experiment at the center of the field would require nterms=1 with (say) multiscale clean, but a bright point source at the half-power level of the primary beam has strong spectral structure induced by the primary beam. In this case, there is no interest in flux accuracy of the bright outlier source, but it must be modeled and subtracted. A multi-term point-source deconvolution algorithm with the standard gridder may be used on the outlier source while a multi-scale nterms=1 imaging run is done on the main field. \n",
        "\n",
        "Algorithm Steps : \n",
        "  - (1) The same data are gridded onto multiple uv-grids to form a list of observed images and psfs. \n",
        "  -  (2) Each such image_field is deconvolved separately in the image domain.  \n",
        "  -  (3) Iteration control must be merged across image_fields. The return dicts from ngcasa.imaging.has_converged() for each image_field must be merged before parameters are sent to the individual deconvolvers. \n",
        "  -  (4) Model images from all image_fields are reconciled to handle overlap regions.\n",
        "  (In case of overlap, use the specified order of the input image_fields to indicate precedence and to blank out overlapping model image pixels for all but one image_field. Or, apply weights. )\n",
        "  -  (5) Predict model visibilities separately for each image_field, adding to the model_data array in the vis_dataset.  \n",
        "\n",
        "Steps 1,2,5 are done independently per image_field. \n",
        "Steps 3 and 4 implement the desired relation between these fields for iteration-control and in model-prediction. \n",
        "\n",
        "Below is an implementation. TBD : Can this be simplified ?"
      ]
    },
    {
      "cell_type": "code",
      "metadata": {
        "id": "5c3V81TrVmdO",
        "colab_type": "code",
        "colab": {}
      },
      "source": [
        "## Image Reconstruction with Multi-Field imaging\n",
        "## Major cycle runs once, using models predicted from all image fields.\n",
        "## Minor cycle runs separately on each image-field\n",
        "\n",
        "# Construct a selected vis dataset\n",
        "vis_dataset = cngi.dio.read_vis(visname, selpars)\n",
        "# Visibility pre-processing : topo->lsrk + channel binning\n",
        "cngi.vis.regridspw(vis_dataset, impars)\n",
        "# Apply flags for all future steps\n",
        "cngi.vis.applyflags(vis_dataset)\n",
        "\n",
        "# Construct a list of empty image sets\n",
        "img_datasets={}\n",
        "for i in range(N_field):\n",
        "    img_datasets[i] = cngi.dio.write_image(impars[i]) \n",
        "\n",
        "# Set image weighting scheme \n",
        "ngcasa.imaging.make_imaging_weight(img_datasets[0], weightpars)\n",
        "# Define gridding convolution functions. Aterm, Wterm, JointMosaic are specified here.\n",
        "ngcasa.imaging.make_gridding_convolution_function(img_dataset, gridpars)\n",
        "\n",
        "iter_recs={}\n",
        "for i in range(N_field):\n",
        "    # Make PSF\n",
        "    ngcasa.imaging.make_psf(img_dataset[i], vis_dataset, gridpars)\n",
        "    # Make PB\n",
        "    ngcasa.imaging.make_pb(img_dataset[i],vis_dataset,gridpars)\n",
        "    # Make Residual image and normalize it\n",
        "    ngcasa.imaging.make_residual_image(img_dataset[i],vis_dataset, gridpars, normpars)\n",
        "\n",
        "    # Initialize the mask and iteration control\n",
        "    ngcasa.imaging.make_mask(img_dataset[i],maskpars)\n",
        "    iter_recs[i] = ngcasa.imaging.is_converged(img_linmos, iterpars, None)\n",
        "\n",
        "\n",
        "# Merge iteration control rules/parameters across fields\n",
        "## Implement logic here to reconcile all iter_recs[] into a single iter_rec to apply to all fields. \n",
        "    \n",
        "# Perform iterative reconstruction\n",
        "while(iter_rec['stopcode']=='continue'):\n",
        "    for i in range(N_field):\n",
        "        ngcasa.imaging.deconvolve(img_dataset[i], decpars)\n",
        "\n",
        "    # Implement code to handle overlapping regions in the model list. \n",
        "    # Use list ordering to pick only the first model and blank overlapping regions in other model images   \n",
        "\n",
        "    ## Model prediction (incremental additions)\n",
        "    for i in range(N_field):\n",
        "        ngcasa.imaging.predict_modelvis_image(img_dataset[i], vis_dataset, normpars, gridpars, incremental=True)\n",
        "\n",
        "    for i in range(N_field):\n",
        "        ## Make residual image and normalize it.\n",
        "        ngcasa.imaging.make_residual_image(img_dataset[i],vis_dataset, gridpars,normpars)\n",
        "\n",
        "        # Update the mask\n",
        "        ngcasa.imaging.make_mask(img_dataset[i],maskpars,interactive=T/F)\n",
        "    \n",
        "# Restore the model images\n",
        "for i in range(N_field):\n",
        "    ngcasa.imaging.restore_model(img_dataset[i])"
      ],
      "execution_count": 0,
      "outputs": []
    },
    {
      "cell_type": "markdown",
      "metadata": {
        "id": "zvkE0WILVmdV",
        "colab_type": "text"
      },
      "source": [
        "## Single Dish Imaging with Deconvolution\n",
        "Purpose : To remove the effect of the Single Dish effective beam from the observed images.\n",
        "\n",
        "Algorithm Steps : "
      ]
    },
    {
      "cell_type": "code",
      "metadata": {
        "id": "aPrPxrA5VmdW",
        "colab_type": "code",
        "colab": {}
      },
      "source": [
        "## Open datasets and pre-process as needed\n",
        "\n",
        "# Make the observed image\n",
        "ngcasa.imaging.make_single_dish_residual(img_dataset)\n",
        "# Make the PSF\n",
        "ngcasa.imaging.make_single_dish_psf(img_dataset)\n",
        "    \n",
        "# Initialize the mask and iteration control\n",
        "ngcasa.imaging.make_mask(img_dataset,maskpars)\n",
        "iter_rec = ngcasa.imaging.is_converged(img_dataset, iterpars, None)\n",
        "\n",
        "# Perform iterative reconstruction\n",
        "while( iter_rec['stopcode']=='continue' ):\n",
        "    # Minor Cycle\n",
        "    exec_rec = ngcasa.imaging.deconvolve_multiterm clean(img_dataset, decpars, iter_rec) # MSClean or MSMFS.\n",
        "\n",
        "    # Major Cycle \n",
        "    ngcasa.imaging.make_single_dish_residual(img_dataset)\n",
        "    \n",
        "    # Update the mask and iteration control\n",
        "    ngcasa.imaging.make_mask(img_dataset,maskpars)\n",
        "    iter_rec = ngcasa.imaging.is_converged(img_dataset, iterpars, exec_rec)\n",
        "\n",
        "# Restore the model image\n",
        "ngcasa.imaging.restore_model(img_dataset)\n",
        "\n",
        "## This example does not use the sd_weight_image(). TBD : Update to use it"
      ],
      "execution_count": 0,
      "outputs": []
    },
    {
      "cell_type": "markdown",
      "metadata": {
        "id": "Ek8qw4nPVmdf",
        "colab_type": "text"
      },
      "source": [
        "## Joint Single Dish and Interferometer Imaging\n",
        "\n",
        "Purpose : To use constraints from both INT and SD datasets during a joint reconstruction. \n",
        "\n",
        "Algorithm Steps : \n",
        "\n",
        "(1) Construct Cube PSFs and Residual Images from INT and SD datasets separately.\n",
        "\n",
        "(2) Apply cngi.image.feather() to merge them and produce a new img_set containing joint information.\n",
        "\n",
        "(3) Minor cycle : ngcasa.imaging.deconvolve()\n",
        "\n",
        "(4) Iteration control and masking : Same as interferometer imaging\n",
        "\n",
        "(5) Major cycle\n",
        "     - For INT, follow the same process as in the example above\n",
        "     - For SD, Residual image = Observed image - { Model image (conv) SD PSF }\n",
        "     Call cngi.image.feather() to merge the new residual images.\n",
        "     "
      ]
    },
    {
      "cell_type": "code",
      "metadata": {
        "id": "TzlZzjvVVmdh",
        "colab_type": "code",
        "colab": {}
      },
      "source": [
        "## Open datasets and pre-process as needed\n",
        "\n",
        "# Make the observed SD image\n",
        "ngcasa.imaging.make_single_dish_residual(sd_imset)\n",
        "# Make the SD PSF\n",
        "ngcasa.imaging.make_single_dish_psf(sd_imset)\n",
        "\n",
        "# Make the INT PSF\n",
        "ngcasa.imaging.make_psf(int_imset, vis_dataset, gridpars)\n",
        "# Make the INT PB\n",
        "ngcasa.imaging.make_pb(int_imset, vis_dataset,gridpars)\n",
        "# Make INT Residual image and normalize it\n",
        "ngcasa.imaging.make_residual_image(int_imset, vis_dataset, gridpars, normpars)\n",
        "\n",
        "    \n",
        "# Feather the SD and INT Cubes together ( PSF and Residual )\n",
        "joint_imset = ngcasa.imaging.feather(sd_dataset, int_dataset, 'psf')\n",
        "joint_imset = ngcasa.imaging.feather(sd_dataset, int_dataset, 'residual')\n",
        "    \n",
        "# Initialize the mask and iteration control\n",
        "ngcasa.imaging.make_mask(joint_imset,maskpars)\n",
        "iter_rec = ngcasa.imaging.is_converged(joint_imset, iterpars, None)\n",
        "\n",
        "# Perform iterative reconstruction\n",
        "while( iter_rec['stopcode']=='continue' ):\n",
        "    # Minor Cycle\n",
        "    exec_rec = ngcasa.imaging.deconvolve_multiterm(joint_imset, decpars, iter_rec) # MS-Clean or MSMFS\n",
        "\n",
        "    # Copy/transfer the joint model from joint_imset to sd_imset and int_imset\n",
        "    \n",
        "    # Major Cycle for SD\n",
        "    ngcasa.imaging.make_single_dish_residual(sd_imset)\n",
        "    # Make INT Residual image and normalize it\n",
        "    ngcasa.imaging.make_residual_image(int_imset, vis_dataset, gridpars, normpars)\n",
        "    # Feather the SD and INT Cubes together ( PSF and Residual )\n",
        "    joint_imset = ngcasa.imaging.feather(sd_dataset, int_dataset, 'residual')\n",
        "    \n",
        "    # Update the mask and iteration control\n",
        "    ngcasa.imaging.make_mask(joint_imset,maskpars)\n",
        "    iter_rec = ngcasa.imaging.is_converged(joint_imset, iterpars, exec_rec)\n",
        "\n",
        "# Restore the model image\n",
        "ngcasa.imaging.restore_model(joint_imset)\n"
      ],
      "execution_count": 0,
      "outputs": []
    },
    {
      "cell_type": "markdown",
      "metadata": {
        "id": "vkgrwao6Vmdr",
        "colab_type": "text"
      },
      "source": [
        "## Saving Model Visibilities\n",
        "\n",
        "Model prediction and saving comes in several flavors. \n",
        "(1) From a component list\n",
        "(2) From a model image\n",
        "(3) uv-cont-fit\n",
        "\n",
        "Model prediction prior to calibration will require the target array to be 'model' whereas simulation will require the target array to be 'data'. ngcasa.imaging.predict_modelvis_xxx() methods take a parameter to specify target array. \n",
        "\n",
        "(1) Calculate visibilities from flux-component lists. They may be observatory calibrator models, or the outputs of an imaging algorithm that produces component lists (e.g. ASP)"
      ]
    },
    {
      "cell_type": "code",
      "metadata": {
        "id": "OAARqMA2Vmdu",
        "colab_type": "code",
        "colab": {}
      },
      "source": [
        "# Construct a selected vis dataset\n",
        "vis_dataset = cngi.dio.read_vis(visname, selpars)\n",
        "\n",
        "# Preprocess for freq-frame conversions\n",
        "cngi.vis.regridspw(vis-dataset)  # Convert from topo to lsrk\n",
        "\n",
        "# Predict model visibilities ( in lsrk frame )\n",
        "ngcasa.imaging.predict_modelvis_component(vis_dataset, component_list)\n",
        "\n",
        "# Undo frame conversions\n",
        "cngi.vis.regridspw(vis_dataset)  # Convert from lsrk back to data frame (topo)\n",
        "\n",
        "# Write to disk\n",
        "cngi.dio.write_zarr(vis_dataset)\n",
        "    "
      ],
      "execution_count": 0,
      "outputs": []
    },
    {
      "cell_type": "markdown",
      "metadata": {
        "id": "zESn0vDdVmd4",
        "colab_type": "text"
      },
      "source": [
        "(2) Calculate visibilities from images, by degridding. The images may be observatory calibrator models or the output of image reconstrunction."
      ]
    },
    {
      "cell_type": "code",
      "metadata": {
        "id": "c4swv3R1Vmd-",
        "colab_type": "code",
        "colab": {}
      },
      "source": [
        "# Construct a selected vis dataset\n",
        "vis_dataset = cngi.dio.read_vis(visname, selpars)\n",
        "\n",
        "# Preprocess for freq-frame conversions\n",
        "cngi.vis.regridspw(vis_dataset)  # Convert from topo to lsrk\n",
        "\n",
        "# Set up de-grid options for PSterm, Aterm, Wterm, JointMosaic are specified here.\n",
        "ngcasa.imaging.make_gridding_convolution_function(img_dataset, gridpars)\n",
        "\n",
        "# Predict model visibilities ( in lsrk frame )\n",
        "ngcasa.imaging.predict_modelvis_image(vis_dataset, img_dataset)\n",
        "\n",
        "# Undo frame conversions\n",
        "cngi.vis.regridspw(vis_dataset)  # Convert from lsrk back to data frame (topo)\n",
        "\n",
        "# Write to disk\n",
        "cngi.dio.write_zarr(vis_dataset)\n"
      ],
      "execution_count": 0,
      "outputs": []
    },
    {
      "cell_type": "markdown",
      "metadata": {
        "id": "6ouUyiF2VmeN",
        "colab_type": "text"
      },
      "source": [
        "    \n",
        "(3) Baseline-based continuum model fitting ( used in UV-continuum subtraction )"
      ]
    },
    {
      "cell_type": "code",
      "metadata": {
        "id": "GRJ_kE3BVmeT",
        "colab_type": "code",
        "colab": {}
      },
      "source": [
        "# Construct a selected vis dataset\n",
        "vis_dataset = cngi.dio.read_vis(visname, selpars)\n",
        "\n",
        "# Preprocess for freq-frame conversions and phase rotation to get the source at the phasecenter\n",
        "cngi.vis.regridspw(vis_dataset)  # Convert from topo to lsrk\n",
        "cngi.vis.rotateuvw(vis_dataset)  # Rotate to get source at observation phase center\n",
        "\n",
        "# Do the uvcontfit : Writes the 'model' array in the XDS vis_dataset\n",
        "cngi.vis.uvcontfit(vis_dataset) # Fit a continuum model per baseline (valid only for a point source at phasecenter)\n",
        "\n",
        "# Undo frame conversions and rotations\n",
        "cngi.vis.rotateuvw(vis_dataset)\n",
        "cngi.vis.regridspw(vis_dataset)  # Convert from lsrk back to data frame (topo)\n",
        "\n",
        "# Write to disk\n",
        "cngi.dio.write_zarr(vis_dataset)"
      ],
      "execution_count": 0,
      "outputs": []
    },
    {
      "cell_type": "markdown",
      "metadata": {
        "id": "_KW7gYjPVmee",
        "colab_type": "text"
      },
      "source": [
        "## UV-Continuum Subtraction\n",
        "\n",
        "There are three ways of implementing uv-continuum subtraction. They follow the three options described above for model prediction and saving.  Insert a  cngi.vis.uvsub() step just prior to the final write to zarr. "
      ]
    },
    {
      "cell_type": "code",
      "metadata": {
        "id": "FVwFbV1xVmef",
        "colab_type": "code",
        "colab": {}
      },
      "source": [
        "## Pick one of the model prediction methods from above.\n",
        "vis_dataset = cngi.dio.read_vis(visname, selpars)\n",
        "cngi.vis.regridspw(vis_dataset)  # Convert from topo to lsrk\n",
        "cngi.vis.rotateuvw(vis_dataset)  # Rotate to get source at observatory phase center\n",
        "cngi.vis.uvcontfit(vis_dataset) # Fit a continuum model per baseline (valid only for a point source at phasecenter)\n",
        "cngi.vis.rotateuvw(vis_dataset)\n",
        "cngi.vis.regridspw(vis_dataset) \n",
        "\n",
        "# Subtract the model from the data. Specify parameters to uvsub to pick which array names to use\n",
        "cngi.vis.uvsub(vis_dataset)\n",
        "\n",
        "# Write to disk\n",
        "cngi.dio.write_zarr(vis_dataset)"
      ],
      "execution_count": 0,
      "outputs": []
    },
    {
      "cell_type": "markdown",
      "metadata": {
        "id": "Xi_5aoAMLFJo",
        "colab_type": "text"
      },
      "source": [
        "## Pointing Self-Calibration\n",
        "\n",
        "Pair a pointing-offset solver from the calibration module \n",
        "with model prediction via A-Projection de-gridding. \n",
        "Incorporate the solve step within the imaging major cycle such that update pointing solutions (in a cal_dataset) are applied during the subsequent residual gridding step. \n",
        "\n",
        "TBD : Check algorithm with listing in publication...\n",
        "\n"
      ]
    },
    {
      "cell_type": "code",
      "metadata": {
        "id": "wNVhNkdjL-7l",
        "colab_type": "code",
        "colab": {}
      },
      "source": [
        "## Major Cycle of image reconstruction, for pointing self-calibration\n",
        "\n",
        "# Set up de-grid options for Aterm with pointing offsets read from a pointing dataset.\n",
        "ngcasa.imaging.make_gridding_convolution_function(img_dataset, gridpars)\n",
        "\n",
        "# Model prediction, using current values from the pointing dataset\n",
        "# This fills in the 'MODEL' array in the vis_dataset\n",
        "ngcasa.imaging.predict_modelvis_image(img_dataset, vis_dataset, pointing_cal_dataset, normpars, gridpars)\n",
        "\n",
        "# Solve for pointing offsets\n",
        "pointing_cal_dataset = ngcasa.calibration.solve_pointing(vis_dataset)\n",
        "\n",
        "# Make residual image and normalize it.\n",
        "ngcasa.imaging.make_residual_image(img_dataset,vis_dataset, pointing_cal_dataset, gridpars,normpars)\n",
        "#-----------------------------------------------------------------------------------\n",
        "\n",
        "\n"
      ],
      "execution_count": 0,
      "outputs": []
    }
  ]
}