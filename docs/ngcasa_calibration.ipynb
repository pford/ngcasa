{
  "nbformat": 4,
  "nbformat_minor": 0,
  "metadata": {
    "kernelspec": {
      "display_name": "Python 3",
      "language": "python",
      "name": "python3"
    },
    "language_info": {
      "codemirror_mode": {
        "name": "ipython",
        "version": 3
      },
      "file_extension": ".py",
      "mimetype": "text/x-python",
      "name": "python",
      "nbconvert_exporter": "python",
      "pygments_lexer": "ipython3",
      "version": "3.6.4"
    },
    "colab": {
      "name": "ngcasa_calibration.ipynb",
      "provenance": [],
      "collapsed_sections": [],
      "toc_visible": true,
      "include_colab_link": true
    }
  },
  "cells": [
    {
      "cell_type": "markdown",
      "metadata": {
        "id": "view-in-github",
        "colab_type": "text"
      },
      "source": [
        "<a href=\"https://colab.research.google.com/github/casangi/ngcasa/blob/master/docs/ngcasa_calibration.ipynb\" target=\"_parent\"><img src=\"https://colab.research.google.com/assets/colab-badge.svg\" alt=\"Open In Colab\"/></a>"
      ]
    },
    {
      "cell_type": "markdown",
      "metadata": {
        "id": "31G5VmJcVmen",
        "colab_type": "text"
      },
      "source": [
        "# Calibration\n",
        "\n",
        "Radio interferometry data analysis applications and algorithms may be assembled from CNGI and ngCASA building blocks. A user may choose to implement their own analysis scripts, use a pre-packaged task similar to those in current CASA or embed ngCASA and CNGI methods in a production pipeline DAG.\n",
        "\n",
        "Note : The following examples represent preliminary design ideas that illustrate how ngCASA science applications may be assembled. The API and usage example scripts will change as the details are refined. The current focus is to evaluate whether the CNGI and ngCASA functional design and infrastructure adequately addresses algorithmic needs and how it may be best leveraged for scaleable high performance computing. Questions raised via this initial exercise will guide the design of [future prototypes](https://ngcasa.readthedocs.io/en/latest/ngcasa_development.html#List-of-future-prototypes), continued evaluation the chosen infrastructure, and the final function hierarchy and API definition. \n",
        "\n",
        "\n",
        "[edit this notebook in colab](https://colab.research.google.com/github/casangi/ngcasa/blob/master/docs/ngcasa_calibration.ipynb)"
      ]
    },
    {
      "cell_type": "markdown",
      "metadata": {
        "id": "wom9AzizRMVi",
        "colab_type": "text"
      },
      "source": [
        "##applycal\n",
        "The following example outlines the basic high-level form of the traditional CASA applycal task, and assumes that a set of calibration tables and a cal library describing how they should be applied is available."
      ]
    },
    {
      "cell_type": "code",
      "metadata": {
        "id": "_ne8U8gmXk8P",
        "colab_type": "code",
        "colab": {}
      },
      "source": [
        "# Construct a select vis dataset\n",
        "vis_dataset = cngi.dio.read_vis(visname,selpars)\n",
        "\n",
        "# Gather calibration to apply and parse it (cal library)\n",
        "# NB: ngcasa.calibration.configcal not yet implemented in the api\n",
        "# TBD: may be tuned to vis selection from selpars, to trim whole calibration \n",
        "#      ensemble to only relevant parts in time, freq, etc.?\n",
        "cal_ensemble = ngcasa.calibration.configcal(callibrary)\n",
        "\n",
        "# Apply the calibration to data, forming corrected data\n",
        "ngcasa.calibration.apply(vis_dataset, \n",
        "                         cal_ensemble, \n",
        "                         use_arr_name='data', \n",
        "                         out_arr_name='corrected_data')\n",
        "\n",
        "# Write calibrated data to disk\n",
        "cngi.write_zarr(vis_dataset)"
      ],
      "execution_count": 0,
      "outputs": []
    },
    {
      "cell_type": "markdown",
      "metadata": {
        "id": "NNaJdrlxho2Z",
        "colab_type": "text"
      },
      "source": [
        "## gaincal\n",
        "The following example outlines the basic high-level form of gain calibration solving, wherein prior calibration is pre-applied to data and model in a manner consistent with the Measurement Equation."
      ]
    },
    {
      "cell_type": "code",
      "metadata": {
        "colab_type": "code",
        "id": "X9n0c_dzYd_C",
        "colab": {}
      },
      "source": [
        "# Construct a select vis dataset\n",
        "vis_dataset = cngi.dio.read_vis(visname,selpars)\n",
        "\n",
        "# Predict model visibilities (in lsrk frame) from a component list, and write to the DATA array in the XDS\n",
        "# Q: Is 'DATA' correct here?  Should it be 'MODEL'?\n",
        "cngi.vis.regridspw(vis_dataset)  # Convert from topo to lsrk\n",
        "ngcasa.imaging.predict_modelvis_component(vis_dataset, component_list, arr_name='DATA') # De-grid and predict model\n",
        "cngi.vis.regridspw(vis_dataset)  # Convert from lsrk back to data frame (topo)\n",
        "\n",
        "# Gather calibration to apply and parse it (cal library)\n",
        "# NB: ngcasa.calibration.configcal not yet implemented in the api\n",
        "# NB: may be tuned to vis selection from selpars, to trim whole calibration \n",
        "#      ensemble to only relevant parts in time, freq, etc.?\n",
        "cal_ensemble = ngcasa.calibration.configcal(callibrary)\n",
        "\n",
        "# Pre-apply the prior calibration to data and model, forming corrected data\n",
        "# NB: ngcasa.calibration.preapply not yet implemented in the api\n",
        "# NB: solpars knows which term we are solving for and so informs where to\n",
        "#     partition pre-applies to upstream (model) and downstream (data) parts\n",
        "ngcasa.calibration.preapply(vis_dataset, \n",
        "                            cal_ensemble,\n",
        "                            solpars,\n",
        "                            use_arr_name=['data','model'], \n",
        "                            out_arr_name=['corrected_data','corrupted_model')\n",
        "\n",
        "# Do chan-averaging on original dataset\n",
        "# NB:  Should be specific to 'corrected_data' and 'corrupted_model'\n",
        "vis_dataset_chan_avg = cngi.vis.chanaverage(vis_dataset)\n",
        "\n",
        "# Do time-averaging to solint\n",
        "# TBD: How is averaging duration specified?\n",
        "# NB:  Should be specific to 'corrected_data' and 'corrupted_model'\n",
        "vis_dataset_time_avg = cngi.vis.timeaverage(vis_dataset)\n",
        "\n",
        "# Solve for gains ('solpars' encodes the solution type)\n",
        "cal_dataset_gaincal = ngcasa.calibration.solve(vis_dataset_chan_avg, solpars, use_arr_name='corrected_data')\n",
        "\n",
        "# Write gain solution to disk\n",
        "cngi.write_zarr(cal_dataset_gaincal)\n",
        "\n"
      ],
      "execution_count": 0,
      "outputs": []
    },
    {
      "cell_type": "markdown",
      "metadata": {
        "id": "N7z4QkgHbqP3",
        "colab_type": "text"
      },
      "source": [
        "## bandpass w/ OTF gaincal\n",
        "The following example outlines the traditional CASA bandpass task, with an additional feature of on-the-fly time-dependent gain calibration to ensure coherence for time-averaging to the bandpass solution interval. "
      ]
    },
    {
      "cell_type": "code",
      "metadata": {
        "id": "851uDJ7kcLMP",
        "colab_type": "code",
        "colab": {}
      },
      "source": [
        "# Construct a select vis dataset\n",
        "vis_dataset = cngi.dio.read_vis(visname,selpars)\n",
        "\n",
        "# Predict model visibilities (in lsrk frame) from a component list, and write to the DATA array in the XDS\n",
        "# Q: Is 'DATA' correct here?  Should it be 'MODEL'?\n",
        "cngi.vis.regridspw(vis_dataset)  # Convert from topo to lsrk\n",
        "ngcasa.imaging.predict_modelvis_component(vis_dataset, component_list, arr_name='DATA') # De-grid and predict model\n",
        "cngi.vis.regridspw(vis_dataset)  # Convert from lsrk back to data frame (topo)\n",
        "\n",
        "# Gather calibration to apply and parse it (cal library)\n",
        "# NB: ngcasa.calibration.configcal not yet implemented in the api\n",
        "# NB: may be tuned to vis selection from selpars, to trim whole calibration \n",
        "#      ensemble to only relevant parts in time, freq, etc.?\n",
        "cal_ensemble = ngcasa.calibration.configcal(callibrary)\n",
        "\n",
        "# Pre-apply the prior calibration to data and model, forming corrected data\n",
        "# NB: ngcasa.calibration.preapply not yet implemented in the api\n",
        "# NB: solparsG informs where to partition pre-applies to upstream (model) \n",
        "#     and downstream (data) parts\n",
        "ngcasa.calibration.preapply(vis_dataset, \n",
        "                            cal_ensemble,\n",
        "                            solparsG,\n",
        "                            use_arr_name=['data','model'], \n",
        "                            out_arr_name=['corrected_data','corrupted_model'])\n",
        "\n",
        "# Do chan-averaging on pre-calibrated dataset\n",
        "# NB:  Should be specific to 'corrected_data' and 'corrupted_model'\n",
        "vis_dataset_chan_avg = cngi.vis.chanaverage(vis_dataset)\n",
        "\n",
        "# Do time-averaging to _G_ solint\n",
        "# TBD: How is _G_ averaging duration specified?\n",
        "# NB:  Should be specific to 'corrected_data' and 'corrupted_model'\n",
        "vis_dataset_chantime_avg = cngi.vis.timeaverage(vis_dataset_chan_avg)\n",
        "\n",
        "# Solve for temporaray time-dep gains ('solpars' encodes the solution type)\n",
        "# NB: solparsG describes the G solve\n",
        "cal_dataset_gaincal = ngcasa.calibration.solve(vis_dataset_chantime_avg, \n",
        "                                               solparsG, \n",
        "                                               use_arr_name=['corrected_data',\n",
        "                                                             'corrupted_model')\n",
        "\n",
        "# Pre-apply prior calibration and temporary gain solution to data\n",
        "# NB: starting from original data, because we need it w/out chanaverage\n",
        "# NB: solparsB informs where to partition pre-applies to upstream (model) \n",
        "#     and downstream (data) parts\n",
        "ngcasa.calibration.preapply(vis_dataset, \n",
        "                            cal_ensemble+cal_dataset_gaincal,\n",
        "                            solparsB,\n",
        "                            use_arr_name=['data','model'], \n",
        "                            out_arr_name=['corrected_data','corrupted_model'])\n",
        "\n",
        "# Do PARTIAL chan-averaging on original dataset, if requested\n",
        "# Q: How to specify partial channel averaging (for decimated bandpass)\n",
        "# NB:  Should be specific to 'corrected_data' and 'corrupted_model'\n",
        "vis_dataset_chan_avg = cngi.vis.chanaverage(vis_dataset)\n",
        "\n",
        "# Do time-averaging to _B_ solint\n",
        "# TBD: How is _B_ soling averaging duration specified?\n",
        "# NB:  Should be specific to 'corrected_data' and 'corrupted_model'\n",
        "vis_dataset_chantime_avg = cngi.vis.timeaverage(vis_dataset_chan_avg)\n",
        "\n",
        "# Solve for bandpass ('solpars' encodes the solution type)\n",
        "# NB: solpars[0] describes the B solve\n",
        "cal_dataset_bandpass = ngcasa.calibration.solve(vis_dataset_chantime_avg, \n",
        "                                                solparsB, \n",
        "                                                use_arr_name=['corrected_data',\n",
        "                                                              'corrupted_model')\n",
        "\n",
        "# Write bandpass solution to disk\n",
        "cngi.write_zarr(cal_dataset_bandpass)\n"
      ],
      "execution_count": 0,
      "outputs": []
    },
    {
      "cell_type": "markdown",
      "metadata": {
        "id": "PTOSZCEqkTfe",
        "colab_type": "text"
      },
      "source": [
        "\n",
        "## Initial calibration prototypes (2020)\n",
        "\n",
        "1. Basic apply w/ single caltable: establish/exercise basic Jones algebra constructs and topology of the fundamental calibration infrastructure (CNGI vs. ngCASA)\n",
        "2. General apply of many terms:  introduce/establish/exercise multi-term topology, including OTF aggregation of calibration\n",
        "3. Basic solve (no apply):  Establish/exercise essential solving mechanics (including pre-averging)\n",
        "4. Solve w/ pre-applies:  Exercise pre-apply aggregation and resource management and staging to the solve\n",
        "\n",
        "\n",
        "\n",
        "\n",
        "\n",
        "\n"
      ]
    }
  ]
}