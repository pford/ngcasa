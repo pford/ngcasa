{
  "nbformat": 4,
  "nbformat_minor": 0,
  "metadata": {
    "kernelspec": {
      "display_name": "Python 3",
      "language": "python",
      "name": "python3"
    },
    "language_info": {
      "codemirror_mode": {
        "name": "ipython",
        "version": 3
      },
      "file_extension": ".py",
      "mimetype": "text/x-python",
      "name": "python",
      "nbconvert_exporter": "python",
      "pygments_lexer": "ipython3",
      "version": "3.6.4"
    },
    "colab": {
      "name": "ngcasa_calibration.ipynb",
      "provenance": [],
      "collapsed_sections": [],
      "toc_visible": true,
      "include_colab_link": true
    }
  },
  "cells": [
    {
      "cell_type": "markdown",
      "metadata": {
        "id": "view-in-github",
        "colab_type": "text"
      },
      "source": [
        "<a href=\"https://colab.research.google.com/github/casangi/ngcasa/blob/master/docs/ngcasa_calibration.ipynb\" target=\"_parent\"><img src=\"https://colab.research.google.com/assets/colab-badge.svg\" alt=\"Open In Colab\"/></a>"
      ]
    },
    {
      "cell_type": "markdown",
      "metadata": {
        "id": "31G5VmJcVmen",
        "colab_type": "text"
      },
      "source": [
        "# Calibration\n",
        "--------- This section is very preliminary, \n",
        "with only the most basic calibration operations illustrated. \n"
      ]
    },
    {
      "cell_type": "markdown",
      "metadata": {
        "id": "K9vxxgIvrl3a",
        "colab_type": "text"
      },
      "source": [
        "## bandpass + gaincal : \n",
        "Use case : Solve for and applying calibration solutions in a sequence. \n",
        "\n",
        "Step (1) : Predict Model\n",
        "\n",
        "Step (2) : Bandpass calibration, where data are averaged across time. Solutions are per channel.\n",
        "\n",
        "Step (3) : Gain calibration, where data are averaged across frequency. Solutions are per time interval\n",
        "\n",
        "Also, include an autoflag step on the gain solutions before applying, in Step (1).\n",
        "\n",
        "This example is a simple situation of different data averaging required for each solve step. More complex sequences may be strung together with different data reshaping/processing and different ngcasa.calibration.solve_xxx() calls. "
      ]
    },
    {
      "cell_type": "code",
      "metadata": {
        "id": "vApyT7qhVme0",
        "colab_type": "code",
        "colab": {}
      },
      "source": [
        "# Construct a selected vis dataset\n",
        "vis_dataset = cngi.dio.read_vis(visname, selpars)\n",
        "\n",
        "## Step (1) \n",
        "\n",
        "# Predict model visibilities (in lsrk frame) from a component list, and write to the DATA array in the XDS\n",
        "cngi.vis.regridspw(vis_dataset)  # Convert from topo to lsrk\n",
        "ngcasa.imaging.predict_modelvis_component(vis_dataset, component_list, arr_name='DATA') # De-grid and predict model\n",
        "cngi.vis.regridspw(vis_dataset)  # Convert from lsrk back to data frame (topo)\n",
        "\n",
        "## Step (2)\n",
        "\n",
        "# Do time-averaging\n",
        "vis_dataset_time_avg = cngi.vis.timeaverage(vis_dataset)\n",
        "\n",
        "# Solve for gains ('solpars' encodes the solution type)\n",
        "cal_dataset_bandpass = ngcasa.calibration.solve(vis_dataset_time_avg, solpars, use_arr_name='data')\n",
        "\n",
        "# <Optionally run autoflag on the gain solutions to take out outliers>\n",
        "# ngcasa.flagging.auto_clip(cal_dataset_bandpass)\n",
        "# cngi.vis.applyflags(cal_dataset_bandpass)\n",
        "\n",
        "# Apply the solutions to the original dataset\n",
        "ngcasa.calibration.apply(vis_dataset, \n",
        "                         cal_dataset_bandpass, \n",
        "                         use_arr_name='data', \n",
        "                         out_arr_name='corrected_data')\n",
        "\n",
        "## Step (3) \n",
        "\n",
        "# Do chan-averaging on original dataset\n",
        "vis_dataset_chan_avg = cngi.vis.chanaverage(vis_dataset)\n",
        "\n",
        "# Solve for gains ('solpars' encodes the solution type)\n",
        "cal_dataset_gaincal = ngcasa.calibration.solve(vis_dataset_chan_avg, solpars, use_arr_name='corrected_data')\n",
        "\n",
        "# Apply the solutions to the pre-calibrated dataset. Note the change in arr_name. \n",
        "ngcasa.calibration.apply(vis_dataset, \n",
        "                         cal_dataset_gaincal, \n",
        "                         use_arr_name='corrected_data', \n",
        "                         out_arr_name='corrected_data')\n",
        "\n",
        "## OR..... Re-apply all the solutions to the original data...\n",
        "#ngcasa.calibration.apply(vis_dataset, \n",
        "#                         [cal_dataset_bandpass, cal_dataset_gaincal], \n",
        "#                         use_arr_name='data',\n",
        "#                         out_arr_name='corrected_data')\n",
        "\n",
        "# Save calibrated data to disk\n",
        "cngi.write_zarr(vis_dataset)\n"
      ],
      "execution_count": 0,
      "outputs": []
    },
    {
      "cell_type": "markdown",
      "metadata": {
        "id": "RsQXIQh7Vme7",
        "colab_type": "text"
      },
      "source": [
        "## Solutions requiring pre-apply of upstream solutions\n",
        "\n",
        "Example : Pre-apply a pre-existing bandpass solution before averaging (to the MODEL data) and solve for time-varying gains. \n",
        "\n",
        "TBD : Do we need this mode of operation ? \n",
        "\n",
        "-- Since calibration solutions are obtained from a point source model (i.e. data / model ), the multiplication of g_i g_j\\*  with Model visibilities is the same as dividing g_i g_j\\* out of the Data visibilities.\n",
        "\n",
        "-- Therefore, will the above solution (of applying solutions to the data and corrected_data column in a sequence) suffice ? Note that nothing is written to disk after each apply, but only written once at the very end.\n",
        "\n",
        "TBD : If this doesn't cover all use cases, and we need an explicit pre-apply, need to define  ngcasa.calibration.pre_apply() to multiply 'MODEL' data with g_i g_j* from a list of input cal_datasets. \n",
        "\n"
      ]
    },
    {
      "cell_type": "markdown",
      "metadata": {
        "id": "4L996opxVme_",
        "colab_type": "text"
      },
      "source": [
        "## Polarization calibration (TBD)\n",
        "TBD : Add example ?"
      ]
    }
  ]
}