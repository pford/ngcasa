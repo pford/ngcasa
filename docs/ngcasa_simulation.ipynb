{
  "nbformat": 4,
  "nbformat_minor": 0,
  "metadata": {
    "kernelspec": {
      "display_name": "Python 3",
      "language": "python",
      "name": "python3"
    },
    "language_info": {
      "codemirror_mode": {
        "name": "ipython",
        "version": 3
      },
      "file_extension": ".py",
      "mimetype": "text/x-python",
      "name": "python",
      "nbconvert_exporter": "python",
      "pygments_lexer": "ipython3",
      "version": "3.6.4"
    },
    "colab": {
      "name": "ngcasa_simulation.ipynb",
      "provenance": [],
      "collapsed_sections": [],
      "toc_visible": true,
      "include_colab_link": true
    }
  },
  "cells": [
    {
      "cell_type": "markdown",
      "metadata": {
        "id": "view-in-github",
        "colab_type": "text"
      },
      "source": [
        "<a href=\"https://colab.research.google.com/github/casangi/ngcasa/blob/master/docs/ngcasa_simulation.ipynb\" target=\"_parent\"><img src=\"https://colab.research.google.com/assets/colab-badge.svg\" alt=\"Open In Colab\"/></a>"
      ]
    },
    {
      "cell_type": "markdown",
      "metadata": {
        "id": "CsgQ1KfxVmgF",
        "colab_type": "text"
      },
      "source": [
        "# Simulation\n",
        "Simulation is an application that uses the simulator, calibrator, flagger and imager modules. Make the MS frame. Calculate all the meta-data and coordinates. \n",
        "Use the calibrator and imager modules for the data prediction and corruption.\n",
        "\n",
        "Move the API entirely into CNGI ? \n",
        "\n",
        "Note : The API definition should mostly follow the casa6.casatools.simulator interface, except for the steps of calculating visibilities. "
      ]
    },
    {
      "cell_type": "markdown",
      "metadata": {
        "id": "FZqYHajGrcz3",
        "colab_type": "text"
      },
      "source": [
        "## Simulate a wideband mosaic observation with a heterogenous array\n",
        "This is an ngVLA and ALMA use-case. \n",
        "\n",
        "- Call the simulator methods in a sequence to generate an empty dataset containing only coordinates and metadata\n",
        "- Call flagger methods to flag shadowed or low-elevation data\n",
        "- Call imager methods to predict visibilities\n",
        "- Call calibrator methods to corrupt the data\n",
        "\n",
        "Assumption : A true-sky model image already exists in img_dataset. A cal_dataset also exist (to apply gain errors)"
      ]
    },
    {
      "cell_type": "code",
      "metadata": {
        "id": "f3RzTM5gVmgO",
        "colab_type": "code",
        "colab": {}
      },
      "source": [
        "# List of mosaic pointings\n",
        "list_fields=[{'ra1':'xxxx', 'dec1':'xxxx'},\n",
        "             {'ra2':'xxxx', 'dec2':'xxxx'}]\n",
        "# List of spectral windows with pol specs\n",
        "list_spws=[{'start':'1GHz','nchan':100, 'width'='10MHz', 'pol'='RR,LL'},\n",
        "           {'start':'2GHz','nchan':1000, 'width'='1MHz', 'pol'='RR,LL'}]\n",
        "# List of scans\n",
        "list_scans=[{'date':'xxx', 'ha_start':'-4h', 'ha_stop':'-3h', 'integration'='1s'},\n",
        "            {'date':'xxx', 'ha_start':'-2h', 'ha_stop':'-1h', 'integration'='1s'} ]\n",
        "\n",
        "# Construct meta-data for the observation.\n",
        "sim_dataset = None\n",
        "for scan in scans:\n",
        "    for field in fields:\n",
        "        for spw in spws:\n",
        "            sim_dataset = ngcasa.simulation.add_meta_data(sim_dataset, scan, field, spw)\n",
        "\n",
        "# Flag data for low elevation or shadows\n",
        "ngcasa.flagging.shadow(sim_dataset)\n",
        "ngcasa.flagging.elevation(sim_dataset)\n",
        "\n",
        "# Predict model visibilities (in lsrk frame) from an image, and write to the DATA array in the XDS\n",
        "cngi.vis.regridspw(sim_dataset)  # Convert from topo to lsrk\n",
        "ngcasa.imaging.make_gridding_convolution_function(img_dataset, gridpars) # Setup de-gridding (include het-array PBs)\n",
        "ngcasa.imaging.predict_modelvis_image(sim_dataset, component_list, arr_name='DATA') # De-grid and predict model\n",
        "cngi.vis.regridspw(sim_dataset)  # Convert from lsrk back to data frame (topo)\n",
        "\n",
        "# Corrupt by antenna gains \n",
        "ngcasa.calibration.apply(sim_dataset, cal_dataset_corrupt, use_arr_name='DATA', out_arr_name='DATA')\n",
        "\n",
        "# Add Gaussian random noise\n",
        "ngcasa.simulation.add_noise(sim_dataset)\n",
        "\n",
        "# Save to disk\n",
        "cngi.write_zarr(sim_dataset)"
      ],
      "execution_count": 0,
      "outputs": []
    }
  ]
}